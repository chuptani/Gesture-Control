{
 "cells": [
  {
   "cell_type": "code",
   "execution_count": 2,
   "metadata": {
    "id": "igMyGnjE9hEp"
   },
   "outputs": [],
   "source": [
    "import csv\n",
    "\n",
    "import numpy as np\n",
    "import tensorflow as tf\n",
    "from sklearn.model_selection import train_test_split\n",
    "\n",
    "RANDOM_SEED = 42"
   ]
  },
  {
   "cell_type": "markdown",
   "metadata": {
    "id": "t2HDvhIu9hEr"
   },
   "source": [
    "# Specify each path"
   ]
  },
  {
   "cell_type": "code",
   "execution_count": 3,
   "metadata": {
    "id": "9NvZP2Zn9hEy"
   },
   "outputs": [],
   "source": [
    "dataset = 'model/keypoint_classifier/keypoint.csv'\n",
    "model_save_path = 'model/keypoint_classifier/keypoint_classifier.hdf5'\n",
    "tflite_save_path = 'model/keypoint_classifier/keypoint_classifier.tflite'"
   ]
  },
  {
   "cell_type": "markdown",
   "metadata": {
    "id": "s5oMH7x19hEz"
   },
   "source": [
    "# Set number of classes"
   ]
  },
  {
   "cell_type": "code",
   "execution_count": 4,
   "metadata": {
    "id": "du4kodXL9hEz"
   },
   "outputs": [],
   "source": [
    "NUM_CLASSES = 7"
   ]
  },
  {
   "cell_type": "markdown",
   "metadata": {
    "id": "XjnL0uso9hEz"
   },
   "source": [
    "# Dataset reading"
   ]
  },
  {
   "cell_type": "code",
   "execution_count": 5,
   "metadata": {
    "id": "QT5ZqtEz9hE0"
   },
   "outputs": [],
   "source": [
    "X_dataset = np.loadtxt(dataset, delimiter=',', dtype='float32', usecols=list(range(1, (21 * 2) + 1)))"
   ]
  },
  {
   "cell_type": "code",
   "execution_count": 6,
   "metadata": {
    "id": "QmoKFsp49hE0"
   },
   "outputs": [],
   "source": [
    "y_dataset = np.loadtxt(dataset, delimiter=',', dtype='int32', usecols=(0))"
   ]
  },
  {
   "cell_type": "code",
   "execution_count": 7,
   "metadata": {
    "id": "xQU7JTZ_9hE0"
   },
   "outputs": [],
   "source": [
    "X_train, X_test, y_train, y_test = train_test_split(X_dataset, y_dataset, train_size=0.75, random_state=RANDOM_SEED)"
   ]
  },
  {
   "cell_type": "markdown",
   "metadata": {
    "id": "mxK_lETT9hE0"
   },
   "source": [
    "# Model building"
   ]
  },
  {
   "cell_type": "code",
   "execution_count": 8,
   "metadata": {
    "id": "vHBmUf1t9hE1"
   },
   "outputs": [],
   "source": [
    "model = tf.keras.models.Sequential([\n",
    "    tf.keras.layers.Input((21 * 2, )),\n",
    "    tf.keras.layers.Dropout(0.2),\n",
    "    tf.keras.layers.Dense(20, activation='relu'),\n",
    "    tf.keras.layers.Dropout(0.4),\n",
    "    tf.keras.layers.Dense(10, activation='relu'),\n",
    "    tf.keras.layers.Dense(NUM_CLASSES, activation='softmax')\n",
    "])"
   ]
  },
  {
   "cell_type": "code",
   "execution_count": 10,
   "metadata": {
    "colab": {
     "base_uri": "https://localhost:8080/"
    },
    "id": "ypqky9tc9hE1",
    "outputId": "5db082bb-30e3-4110-bf63-a1ee777ecd46"
   },
   "outputs": [
    {
     "name": "stdout",
     "output_type": "stream",
     "text": [
      "Model: \"sequential\"\n",
      "_________________________________________________________________\n",
      " Layer (type)                Output Shape              Param #   \n",
      "=================================================================\n",
      " dropout (Dropout)           (None, 42)                0         \n",
      "                                                                 \n",
      " dense (Dense)               (None, 20)                860       \n",
      "                                                                 \n",
      " dropout_1 (Dropout)         (None, 20)                0         \n",
      "                                                                 \n",
      " dense_1 (Dense)             (None, 10)                210       \n",
      "                                                                 \n",
      " dense_2 (Dense)             (None, 7)                 77        \n",
      "                                                                 \n",
      "=================================================================\n",
      "Total params: 1147 (4.48 KB)\n",
      "Trainable params: 1147 (4.48 KB)\n",
      "Non-trainable params: 0 (0.00 Byte)\n",
      "_________________________________________________________________\n"
     ]
    }
   ],
   "source": [
    "model.summary()\n",
    "# tf.keras.utils.plot_model(model, show_shapes=True)"
   ]
  },
  {
   "cell_type": "code",
   "execution_count": null,
   "metadata": {
    "id": "MbMjOflQ9hE1"
   },
   "outputs": [],
   "source": [
    "# Model checkpoint callback\n",
    "cp_callback = tf.keras.callbacks.ModelCheckpoint(\n",
    "    model_save_path, verbose=1, save_weights_only=False)\n",
    "# Callback for early stopping\n",
    "es_callback = tf.keras.callbacks.EarlyStopping(patience=20, verbose=1)"
   ]
  },
  {
   "cell_type": "code",
   "execution_count": null,
   "metadata": {
    "id": "c3Dac0M_9hE2"
   },
   "outputs": [],
   "source": [
    "# Model compilation\n",
    "model.compile(\n",
    "    optimizer='adam',\n",
    "    loss='sparse_categorical_crossentropy',\n",
    "    metrics=['accuracy']\n",
    ")"
   ]
  },
  {
   "cell_type": "markdown",
   "metadata": {
    "id": "7XI0j1Iu9hE2"
   },
   "source": [
    "# Model training"
   ]
  },
  {
   "cell_type": "code",
   "execution_count": null,
   "metadata": {
    "colab": {
     "base_uri": "https://localhost:8080/"
    },
    "id": "WirBl-JE9hE3",
    "outputId": "71b30ca2-8294-4d9d-8aa2-800d90d399de",
    "scrolled": true
   },
   "outputs": [
    {
     "name": "stdout",
     "output_type": "stream",
     "text": [
      "Epoch 1/1000\n"
     ]
    },
    {
     "name": "stdout",
     "output_type": "stream",
     "text": [
      "23/30 [======================>.......] - ETA: 0s - loss: 1.7897 - accuracy: 0.1793 \n",
      "Epoch 1: saving model to model/keypoint_classifier/keypoint_classifier.hdf5\n",
      "30/30 [==============================] - 2s 11ms/step - loss: 1.7655 - accuracy: 0.1952 - val_loss: 1.6124 - val_accuracy: 0.3483\n",
      "Epoch 2/1000\n",
      "22/30 [=====================>........] - ETA: 0s - loss: 1.6105 - accuracy: 0.3026\n",
      "Epoch 2: saving model to model/keypoint_classifier/keypoint_classifier.hdf5\n",
      "30/30 [==============================] - 0s 5ms/step - loss: 1.5958 - accuracy: 0.3076 - val_loss: 1.4641 - val_accuracy: 0.3776\n",
      "Epoch 3/1000\n",
      " 1/30 [>.............................] - ETA: 0s - loss: 1.5199 - accuracy: 0.3125"
     ]
    },
    {
     "name": "stderr",
     "output_type": "stream",
     "text": [
      "/home/chuptani/.conda/envs/hgrm/lib/python3.10/site-packages/keras/src/engine/training.py:3103: UserWarning: You are saving your model as an HDF5 file via `model.save()`. This file format is considered legacy. We recommend using instead the native Keras format, e.g. `model.save('my_model.keras')`.\n",
      "  saving_api.save_model(\n"
     ]
    },
    {
     "name": "stdout",
     "output_type": "stream",
     "text": [
      "22/30 [=====================>........] - ETA: 0s - loss: 1.5022 - accuracy: 0.3391\n",
      "Epoch 3: saving model to model/keypoint_classifier/keypoint_classifier.hdf5\n",
      "30/30 [==============================] - 0s 5ms/step - loss: 1.4799 - accuracy: 0.3569 - val_loss: 1.3330 - val_accuracy: 0.4818\n",
      "Epoch 4/1000\n",
      "19/30 [==================>...........] - ETA: 0s - loss: 1.3987 - accuracy: 0.4108\n",
      "Epoch 4: saving model to model/keypoint_classifier/keypoint_classifier.hdf5\n",
      "30/30 [==============================] - 0s 5ms/step - loss: 1.3965 - accuracy: 0.4119 - val_loss: 1.2336 - val_accuracy: 0.6027\n",
      "Epoch 5/1000\n",
      "23/30 [======================>.......] - ETA: 0s - loss: 1.3200 - accuracy: 0.4582\n",
      "Epoch 5: saving model to model/keypoint_classifier/keypoint_classifier.hdf5\n",
      "30/30 [==============================] - 0s 5ms/step - loss: 1.3078 - accuracy: 0.4643 - val_loss: 1.1550 - val_accuracy: 0.6319\n",
      "Epoch 6/1000\n",
      "23/30 [======================>.......] - ETA: 0s - loss: 1.2616 - accuracy: 0.4851\n",
      "Epoch 6: saving model to model/keypoint_classifier/keypoint_classifier.hdf5\n",
      "30/30 [==============================] - 0s 5ms/step - loss: 1.2624 - accuracy: 0.4880 - val_loss: 1.0931 - val_accuracy: 0.6540\n",
      "Epoch 7/1000\n",
      "22/30 [=====================>........] - ETA: 0s - loss: 1.2482 - accuracy: 0.4815\n",
      "Epoch 7: saving model to model/keypoint_classifier/keypoint_classifier.hdf5\n",
      "30/30 [==============================] - 0s 5ms/step - loss: 1.2363 - accuracy: 0.4856 - val_loss: 1.0539 - val_accuracy: 0.6596\n",
      "Epoch 8/1000\n",
      "24/30 [=======================>......] - ETA: 0s - loss: 1.1985 - accuracy: 0.4984\n",
      "Epoch 8: saving model to model/keypoint_classifier/keypoint_classifier.hdf5\n",
      "30/30 [==============================] - 0s 5ms/step - loss: 1.1953 - accuracy: 0.5046 - val_loss: 1.0092 - val_accuracy: 0.6698\n",
      "Epoch 9/1000\n",
      "24/30 [=======================>......] - ETA: 0s - loss: 1.1643 - accuracy: 0.5355\n",
      "Epoch 9: saving model to model/keypoint_classifier/keypoint_classifier.hdf5\n",
      "30/30 [==============================] - 0s 5ms/step - loss: 1.1659 - accuracy: 0.5296 - val_loss: 0.9721 - val_accuracy: 0.6840\n",
      "Epoch 10/1000\n",
      "23/30 [======================>.......] - ETA: 0s - loss: 1.1436 - accuracy: 0.5408\n",
      "Epoch 10: saving model to model/keypoint_classifier/keypoint_classifier.hdf5\n",
      "30/30 [==============================] - 0s 5ms/step - loss: 1.1430 - accuracy: 0.5338 - val_loss: 0.9390 - val_accuracy: 0.6967\n",
      "Epoch 11/1000\n",
      "22/30 [=====================>........] - ETA: 0s - loss: 1.1338 - accuracy: 0.5312\n",
      "Epoch 11: saving model to model/keypoint_classifier/keypoint_classifier.hdf5\n",
      "30/30 [==============================] - 0s 5ms/step - loss: 1.1217 - accuracy: 0.5433 - val_loss: 0.9108 - val_accuracy: 0.7085\n",
      "Epoch 12/1000\n",
      "22/30 [=====================>........] - ETA: 0s - loss: 1.1089 - accuracy: 0.5462\n",
      "Epoch 12: saving model to model/keypoint_classifier/keypoint_classifier.hdf5\n",
      "30/30 [==============================] - 0s 5ms/step - loss: 1.1046 - accuracy: 0.5452 - val_loss: 0.8778 - val_accuracy: 0.7251\n",
      "Epoch 13/1000\n",
      "21/30 [====================>.........] - ETA: 0s - loss: 1.0886 - accuracy: 0.5472\n",
      "Epoch 13: saving model to model/keypoint_classifier/keypoint_classifier.hdf5\n",
      "30/30 [==============================] - 0s 5ms/step - loss: 1.0890 - accuracy: 0.5510 - val_loss: 0.8467 - val_accuracy: 0.7275\n",
      "Epoch 14/1000\n",
      "23/30 [======================>.......] - ETA: 0s - loss: 1.0884 - accuracy: 0.5645\n",
      "Epoch 14: saving model to model/keypoint_classifier/keypoint_classifier.hdf5\n",
      "30/30 [==============================] - 0s 5ms/step - loss: 1.0745 - accuracy: 0.5691 - val_loss: 0.8302 - val_accuracy: 0.7299\n",
      "Epoch 15/1000\n",
      "23/30 [======================>.......] - ETA: 0s - loss: 1.0501 - accuracy: 0.5703\n",
      "Epoch 15: saving model to model/keypoint_classifier/keypoint_classifier.hdf5\n",
      "30/30 [==============================] - 0s 5ms/step - loss: 1.0516 - accuracy: 0.5744 - val_loss: 0.8058 - val_accuracy: 0.7409\n",
      "Epoch 16/1000\n",
      "23/30 [======================>.......] - ETA: 0s - loss: 1.0260 - accuracy: 0.5863\n",
      "Epoch 16: saving model to model/keypoint_classifier/keypoint_classifier.hdf5\n",
      "30/30 [==============================] - 0s 5ms/step - loss: 1.0271 - accuracy: 0.5852 - val_loss: 0.7763 - val_accuracy: 0.7496\n",
      "Epoch 17/1000\n",
      "23/30 [======================>.......] - ETA: 0s - loss: 1.0063 - accuracy: 0.6067\n",
      "Epoch 17: saving model to model/keypoint_classifier/keypoint_classifier.hdf5\n",
      "30/30 [==============================] - 0s 5ms/step - loss: 1.0043 - accuracy: 0.6076 - val_loss: 0.7500 - val_accuracy: 0.7630\n",
      "Epoch 18/1000\n",
      "24/30 [=======================>......] - ETA: 0s - loss: 0.9998 - accuracy: 0.6045\n",
      "Epoch 18: saving model to model/keypoint_classifier/keypoint_classifier.hdf5\n",
      "30/30 [==============================] - 0s 5ms/step - loss: 0.9953 - accuracy: 0.6057 - val_loss: 0.7244 - val_accuracy: 0.7749\n",
      "Epoch 19/1000\n",
      "23/30 [======================>.......] - ETA: 0s - loss: 0.9846 - accuracy: 0.6128\n",
      "Epoch 19: saving model to model/keypoint_classifier/keypoint_classifier.hdf5\n",
      "30/30 [==============================] - 0s 5ms/step - loss: 0.9810 - accuracy: 0.6092 - val_loss: 0.6992 - val_accuracy: 0.7844\n",
      "Epoch 20/1000\n",
      "21/30 [====================>.........] - ETA: 0s - loss: 0.9665 - accuracy: 0.6097\n",
      "Epoch 20: saving model to model/keypoint_classifier/keypoint_classifier.hdf5\n",
      "30/30 [==============================] - 0s 5ms/step - loss: 0.9730 - accuracy: 0.6092 - val_loss: 0.6759 - val_accuracy: 0.7994\n",
      "Epoch 21/1000\n",
      "21/30 [====================>.........] - ETA: 0s - loss: 0.9197 - accuracy: 0.6399\n",
      "Epoch 21: saving model to model/keypoint_classifier/keypoint_classifier.hdf5\n",
      "30/30 [==============================] - 0s 5ms/step - loss: 0.9343 - accuracy: 0.6355 - val_loss: 0.6494 - val_accuracy: 0.8128\n",
      "Epoch 22/1000\n",
      "23/30 [======================>.......] - ETA: 0s - loss: 0.9118 - accuracy: 0.6369\n",
      "Epoch 22: saving model to model/keypoint_classifier/keypoint_classifier.hdf5\n",
      "30/30 [==============================] - 0s 5ms/step - loss: 0.9225 - accuracy: 0.6313 - val_loss: 0.6371 - val_accuracy: 0.8152\n",
      "Epoch 23/1000\n",
      "24/30 [=======================>......] - ETA: 0s - loss: 0.9249 - accuracy: 0.6410\n",
      "Epoch 23: saving model to model/keypoint_classifier/keypoint_classifier.hdf5\n",
      "30/30 [==============================] - 0s 5ms/step - loss: 0.9223 - accuracy: 0.6395 - val_loss: 0.6227 - val_accuracy: 0.8270\n",
      "Epoch 24/1000\n",
      "23/30 [======================>.......] - ETA: 0s - loss: 0.9183 - accuracy: 0.6416\n",
      "Epoch 24: saving model to model/keypoint_classifier/keypoint_classifier.hdf5\n",
      "30/30 [==============================] - 0s 5ms/step - loss: 0.9142 - accuracy: 0.6437 - val_loss: 0.6038 - val_accuracy: 0.8444\n",
      "Epoch 25/1000\n",
      "23/30 [======================>.......] - ETA: 0s - loss: 0.8912 - accuracy: 0.6488\n",
      "Epoch 25: saving model to model/keypoint_classifier/keypoint_classifier.hdf5\n",
      "30/30 [==============================] - 0s 5ms/step - loss: 0.8872 - accuracy: 0.6518 - val_loss: 0.5875 - val_accuracy: 0.8420\n",
      "Epoch 26/1000\n",
      "23/30 [======================>.......] - ETA: 0s - loss: 0.8867 - accuracy: 0.6596\n",
      "Epoch 26: saving model to model/keypoint_classifier/keypoint_classifier.hdf5\n",
      "30/30 [==============================] - 0s 5ms/step - loss: 0.8791 - accuracy: 0.6637 - val_loss: 0.5736 - val_accuracy: 0.8349\n",
      "Epoch 27/1000\n",
      "24/30 [=======================>......] - ETA: 0s - loss: 0.8488 - accuracy: 0.6689\n",
      "Epoch 27: saving model to model/keypoint_classifier/keypoint_classifier.hdf5\n",
      "30/30 [==============================] - 0s 5ms/step - loss: 0.8605 - accuracy: 0.6668 - val_loss: 0.5513 - val_accuracy: 0.8515\n",
      "Epoch 28/1000\n",
      "20/30 [===================>..........] - ETA: 0s - loss: 0.8837 - accuracy: 0.6590\n",
      "Epoch 28: saving model to model/keypoint_classifier/keypoint_classifier.hdf5\n",
      "30/30 [==============================] - 0s 5ms/step - loss: 0.8843 - accuracy: 0.6571 - val_loss: 0.5521 - val_accuracy: 0.8420\n",
      "Epoch 29/1000\n",
      "21/30 [====================>.........] - ETA: 0s - loss: 0.8434 - accuracy: 0.6678\n",
      "Epoch 29: saving model to model/keypoint_classifier/keypoint_classifier.hdf5\n",
      "30/30 [==============================] - 0s 5ms/step - loss: 0.8512 - accuracy: 0.6637 - val_loss: 0.5353 - val_accuracy: 0.8420\n",
      "Epoch 30/1000\n",
      "23/30 [======================>.......] - ETA: 0s - loss: 0.8528 - accuracy: 0.6675\n",
      "Epoch 30: saving model to model/keypoint_classifier/keypoint_classifier.hdf5\n",
      "30/30 [==============================] - 0s 5ms/step - loss: 0.8473 - accuracy: 0.6718 - val_loss: 0.5244 - val_accuracy: 0.8870\n",
      "Epoch 31/1000\n",
      "22/30 [=====================>........] - ETA: 0s - loss: 0.8297 - accuracy: 0.6815\n",
      "Epoch 31: saving model to model/keypoint_classifier/keypoint_classifier.hdf5\n",
      "30/30 [==============================] - 0s 5ms/step - loss: 0.8430 - accuracy: 0.6755 - val_loss: 0.5134 - val_accuracy: 0.8807\n",
      "Epoch 32/1000\n",
      "24/30 [=======================>......] - ETA: 0s - loss: 0.8448 - accuracy: 0.6745\n",
      "Epoch 32: saving model to model/keypoint_classifier/keypoint_classifier.hdf5\n",
      "30/30 [==============================] - 0s 5ms/step - loss: 0.8439 - accuracy: 0.6755 - val_loss: 0.5072 - val_accuracy: 0.8847\n",
      "Epoch 33/1000\n",
      "24/30 [=======================>......] - ETA: 0s - loss: 0.8251 - accuracy: 0.6686\n",
      "Epoch 33: saving model to model/keypoint_classifier/keypoint_classifier.hdf5\n",
      "30/30 [==============================] - 0s 5ms/step - loss: 0.8353 - accuracy: 0.6647 - val_loss: 0.4955 - val_accuracy: 0.8878\n",
      "Epoch 34/1000\n",
      "24/30 [=======================>......] - ETA: 0s - loss: 0.8180 - accuracy: 0.6813\n",
      "Epoch 34: saving model to model/keypoint_classifier/keypoint_classifier.hdf5\n",
      "30/30 [==============================] - 0s 5ms/step - loss: 0.8140 - accuracy: 0.6803 - val_loss: 0.4887 - val_accuracy: 0.8894\n",
      "Epoch 35/1000\n",
      "19/30 [==================>...........] - ETA: 0s - loss: 0.8104 - accuracy: 0.6764\n",
      "Epoch 35: saving model to model/keypoint_classifier/keypoint_classifier.hdf5\n",
      "30/30 [==============================] - 0s 5ms/step - loss: 0.8139 - accuracy: 0.6784 - val_loss: 0.4706 - val_accuracy: 0.8847\n",
      "Epoch 36/1000\n",
      "20/30 [===================>..........] - ETA: 0s - loss: 0.7861 - accuracy: 0.6863\n",
      "Epoch 36: saving model to model/keypoint_classifier/keypoint_classifier.hdf5\n",
      "30/30 [==============================] - 0s 5ms/step - loss: 0.7982 - accuracy: 0.6861 - val_loss: 0.4643 - val_accuracy: 0.8926\n",
      "Epoch 37/1000\n",
      "22/30 [=====================>........] - ETA: 0s - loss: 0.7966 - accuracy: 0.6900\n",
      "Epoch 37: saving model to model/keypoint_classifier/keypoint_classifier.hdf5\n",
      "30/30 [==============================] - 0s 5ms/step - loss: 0.8019 - accuracy: 0.6882 - val_loss: 0.4567 - val_accuracy: 0.8965\n",
      "Epoch 38/1000\n",
      "24/30 [=======================>......] - ETA: 0s - loss: 0.7663 - accuracy: 0.7018\n",
      "Epoch 38: saving model to model/keypoint_classifier/keypoint_classifier.hdf5\n",
      "30/30 [==============================] - 0s 5ms/step - loss: 0.7851 - accuracy: 0.6958 - val_loss: 0.4472 - val_accuracy: 0.8973\n",
      "Epoch 39/1000\n",
      "23/30 [======================>.......] - ETA: 0s - loss: 0.7621 - accuracy: 0.7052\n",
      "Epoch 39: saving model to model/keypoint_classifier/keypoint_classifier.hdf5\n",
      "30/30 [==============================] - 0s 5ms/step - loss: 0.7637 - accuracy: 0.7050 - val_loss: 0.4447 - val_accuracy: 0.8965\n",
      "Epoch 40/1000\n",
      "23/30 [======================>.......] - ETA: 0s - loss: 0.7689 - accuracy: 0.7035\n",
      "Epoch 40: saving model to model/keypoint_classifier/keypoint_classifier.hdf5\n",
      "30/30 [==============================] - 0s 5ms/step - loss: 0.7723 - accuracy: 0.7006 - val_loss: 0.4427 - val_accuracy: 0.9013\n",
      "Epoch 41/1000\n",
      "23/30 [======================>.......] - ETA: 0s - loss: 0.7522 - accuracy: 0.7082\n",
      "Epoch 41: saving model to model/keypoint_classifier/keypoint_classifier.hdf5\n",
      "30/30 [==============================] - 0s 5ms/step - loss: 0.7536 - accuracy: 0.7095 - val_loss: 0.4276 - val_accuracy: 0.9028\n",
      "Epoch 42/1000\n",
      "23/30 [======================>.......] - ETA: 0s - loss: 0.7491 - accuracy: 0.7021\n",
      "Epoch 42: saving model to model/keypoint_classifier/keypoint_classifier.hdf5\n",
      "30/30 [==============================] - 0s 5ms/step - loss: 0.7480 - accuracy: 0.7042 - val_loss: 0.4207 - val_accuracy: 0.8997\n",
      "Epoch 43/1000\n",
      "24/30 [=======================>......] - ETA: 0s - loss: 0.7497 - accuracy: 0.7135\n",
      "Epoch 43: saving model to model/keypoint_classifier/keypoint_classifier.hdf5\n",
      "30/30 [==============================] - 0s 5ms/step - loss: 0.7568 - accuracy: 0.7092 - val_loss: 0.4140 - val_accuracy: 0.8989\n",
      "Epoch 44/1000\n",
      "16/30 [===============>..............] - ETA: 0s - loss: 0.7228 - accuracy: 0.7266\n",
      "Epoch 44: saving model to model/keypoint_classifier/keypoint_classifier.hdf5\n",
      "30/30 [==============================] - 0s 5ms/step - loss: 0.7449 - accuracy: 0.7140 - val_loss: 0.4077 - val_accuracy: 0.9013\n",
      "Epoch 45/1000\n",
      "22/30 [=====================>........] - ETA: 0s - loss: 0.7637 - accuracy: 0.7088\n",
      "Epoch 45: saving model to model/keypoint_classifier/keypoint_classifier.hdf5\n",
      "30/30 [==============================] - 0s 5ms/step - loss: 0.7551 - accuracy: 0.7127 - val_loss: 0.4019 - val_accuracy: 0.9115\n",
      "Epoch 46/1000\n",
      "24/30 [=======================>......] - ETA: 0s - loss: 0.7614 - accuracy: 0.7096\n",
      "Epoch 46: saving model to model/keypoint_classifier/keypoint_classifier.hdf5\n",
      "30/30 [==============================] - 0s 5ms/step - loss: 0.7624 - accuracy: 0.7077 - val_loss: 0.4089 - val_accuracy: 0.9044\n",
      "Epoch 47/1000\n",
      "21/30 [====================>.........] - ETA: 0s - loss: 0.7764 - accuracy: 0.6972\n",
      "Epoch 47: saving model to model/keypoint_classifier/keypoint_classifier.hdf5\n",
      "30/30 [==============================] - 0s 5ms/step - loss: 0.7746 - accuracy: 0.6984 - val_loss: 0.3993 - val_accuracy: 0.8997\n",
      "Epoch 48/1000\n",
      "21/30 [====================>.........] - ETA: 0s - loss: 0.7317 - accuracy: 0.7117\n",
      "Epoch 48: saving model to model/keypoint_classifier/keypoint_classifier.hdf5\n",
      "30/30 [==============================] - 0s 5ms/step - loss: 0.7252 - accuracy: 0.7185 - val_loss: 0.3937 - val_accuracy: 0.9013\n",
      "Epoch 49/1000\n",
      "23/30 [======================>.......] - ETA: 0s - loss: 0.7263 - accuracy: 0.7259\n",
      "Epoch 49: saving model to model/keypoint_classifier/keypoint_classifier.hdf5\n",
      "30/30 [==============================] - 0s 5ms/step - loss: 0.7184 - accuracy: 0.7269 - val_loss: 0.3843 - val_accuracy: 0.9052\n",
      "Epoch 50/1000\n",
      "23/30 [======================>.......] - ETA: 0s - loss: 0.7293 - accuracy: 0.7289\n",
      "Epoch 50: saving model to model/keypoint_classifier/keypoint_classifier.hdf5\n",
      "30/30 [==============================] - 0s 5ms/step - loss: 0.7199 - accuracy: 0.7301 - val_loss: 0.3773 - val_accuracy: 0.9052\n",
      "Epoch 51/1000\n",
      "23/30 [======================>.......] - ETA: 0s - loss: 0.7084 - accuracy: 0.7249\n",
      "Epoch 51: saving model to model/keypoint_classifier/keypoint_classifier.hdf5\n",
      "30/30 [==============================] - 0s 5ms/step - loss: 0.7061 - accuracy: 0.7261 - val_loss: 0.3668 - val_accuracy: 0.9139\n",
      "Epoch 52/1000\n",
      "23/30 [======================>.......] - ETA: 0s - loss: 0.7140 - accuracy: 0.7157\n",
      "Epoch 52: saving model to model/keypoint_classifier/keypoint_classifier.hdf5\n",
      "30/30 [==============================] - 0s 5ms/step - loss: 0.7173 - accuracy: 0.7179 - val_loss: 0.3639 - val_accuracy: 0.9202\n",
      "Epoch 53/1000\n",
      "28/30 [===========================>..] - ETA: 0s - loss: 0.7213 - accuracy: 0.7193\n",
      "Epoch 53: saving model to model/keypoint_classifier/keypoint_classifier.hdf5\n",
      "30/30 [==============================] - 0s 9ms/step - loss: 0.7219 - accuracy: 0.7206 - val_loss: 0.3605 - val_accuracy: 0.9131\n",
      "Epoch 54/1000\n",
      "23/30 [======================>.......] - ETA: 0s - loss: 0.7067 - accuracy: 0.7364\n",
      "Epoch 54: saving model to model/keypoint_classifier/keypoint_classifier.hdf5\n",
      "30/30 [==============================] - 0s 5ms/step - loss: 0.7013 - accuracy: 0.7364 - val_loss: 0.3583 - val_accuracy: 0.9163\n",
      "Epoch 55/1000\n",
      "21/30 [====================>.........] - ETA: 0s - loss: 0.6872 - accuracy: 0.7433\n",
      "Epoch 55: saving model to model/keypoint_classifier/keypoint_classifier.hdf5\n",
      "30/30 [==============================] - 0s 5ms/step - loss: 0.6928 - accuracy: 0.7390 - val_loss: 0.3497 - val_accuracy: 0.9242\n",
      "Epoch 56/1000\n",
      "21/30 [====================>.........] - ETA: 0s - loss: 0.6970 - accuracy: 0.7411\n",
      "Epoch 56: saving model to model/keypoint_classifier/keypoint_classifier.hdf5\n",
      "30/30 [==============================] - 0s 5ms/step - loss: 0.6984 - accuracy: 0.7390 - val_loss: 0.3487 - val_accuracy: 0.9179\n",
      "Epoch 57/1000\n",
      "23/30 [======================>.......] - ETA: 0s - loss: 0.6864 - accuracy: 0.7357\n",
      "Epoch 57: saving model to model/keypoint_classifier/keypoint_classifier.hdf5\n",
      "30/30 [==============================] - 0s 5ms/step - loss: 0.6961 - accuracy: 0.7351 - val_loss: 0.3496 - val_accuracy: 0.9139\n",
      "Epoch 58/1000\n",
      "23/30 [======================>.......] - ETA: 0s - loss: 0.7141 - accuracy: 0.7327\n",
      "Epoch 58: saving model to model/keypoint_classifier/keypoint_classifier.hdf5\n",
      "30/30 [==============================] - 0s 5ms/step - loss: 0.7049 - accuracy: 0.7345 - val_loss: 0.3601 - val_accuracy: 0.9131\n",
      "Epoch 59/1000\n",
      "24/30 [=======================>......] - ETA: 0s - loss: 0.6987 - accuracy: 0.7370\n",
      "Epoch 59: saving model to model/keypoint_classifier/keypoint_classifier.hdf5\n",
      "30/30 [==============================] - 0s 5ms/step - loss: 0.7006 - accuracy: 0.7329 - val_loss: 0.3491 - val_accuracy: 0.9171\n",
      "Epoch 60/1000\n",
      "23/30 [======================>.......] - ETA: 0s - loss: 0.6814 - accuracy: 0.7439\n",
      "Epoch 60: saving model to model/keypoint_classifier/keypoint_classifier.hdf5\n",
      "30/30 [==============================] - 0s 5ms/step - loss: 0.6832 - accuracy: 0.7453 - val_loss: 0.3389 - val_accuracy: 0.9202\n",
      "Epoch 61/1000\n",
      "24/30 [=======================>......] - ETA: 0s - loss: 0.6847 - accuracy: 0.7402\n",
      "Epoch 61: saving model to model/keypoint_classifier/keypoint_classifier.hdf5\n",
      "30/30 [==============================] - 0s 5ms/step - loss: 0.6881 - accuracy: 0.7390 - val_loss: 0.3337 - val_accuracy: 0.9265\n",
      "Epoch 62/1000\n",
      "23/30 [======================>.......] - ETA: 0s - loss: 0.7028 - accuracy: 0.7371\n",
      "Epoch 62: saving model to model/keypoint_classifier/keypoint_classifier.hdf5\n",
      "30/30 [==============================] - 0s 5ms/step - loss: 0.7003 - accuracy: 0.7361 - val_loss: 0.3430 - val_accuracy: 0.9265\n",
      "Epoch 63/1000\n",
      "23/30 [======================>.......] - ETA: 0s - loss: 0.6848 - accuracy: 0.7517\n",
      "Epoch 63: saving model to model/keypoint_classifier/keypoint_classifier.hdf5\n",
      "30/30 [==============================] - 0s 5ms/step - loss: 0.6895 - accuracy: 0.7472 - val_loss: 0.3283 - val_accuracy: 0.9313\n",
      "Epoch 64/1000\n",
      "23/30 [======================>.......] - ETA: 0s - loss: 0.7016 - accuracy: 0.7347\n",
      "Epoch 64: saving model to model/keypoint_classifier/keypoint_classifier.hdf5\n",
      "30/30 [==============================] - 0s 5ms/step - loss: 0.7088 - accuracy: 0.7314 - val_loss: 0.3367 - val_accuracy: 0.9273\n",
      "Epoch 65/1000\n",
      "23/30 [======================>.......] - ETA: 0s - loss: 0.6767 - accuracy: 0.7548\n",
      "Epoch 65: saving model to model/keypoint_classifier/keypoint_classifier.hdf5\n",
      "30/30 [==============================] - 0s 5ms/step - loss: 0.6826 - accuracy: 0.7519 - val_loss: 0.3334 - val_accuracy: 0.9281\n",
      "Epoch 66/1000\n",
      "24/30 [=======================>......] - ETA: 0s - loss: 0.6905 - accuracy: 0.7490\n",
      "Epoch 66: saving model to model/keypoint_classifier/keypoint_classifier.hdf5\n",
      "30/30 [==============================] - 0s 5ms/step - loss: 0.6877 - accuracy: 0.7466 - val_loss: 0.3313 - val_accuracy: 0.9297\n",
      "Epoch 67/1000\n",
      "23/30 [======================>.......] - ETA: 0s - loss: 0.6524 - accuracy: 0.7615\n",
      "Epoch 67: saving model to model/keypoint_classifier/keypoint_classifier.hdf5\n",
      "30/30 [==============================] - 0s 5ms/step - loss: 0.6508 - accuracy: 0.7585 - val_loss: 0.3181 - val_accuracy: 0.9297\n",
      "Epoch 68/1000\n",
      "24/30 [=======================>......] - ETA: 0s - loss: 0.6496 - accuracy: 0.7510\n",
      "Epoch 68: saving model to model/keypoint_classifier/keypoint_classifier.hdf5\n",
      "30/30 [==============================] - 0s 5ms/step - loss: 0.6561 - accuracy: 0.7509 - val_loss: 0.3114 - val_accuracy: 0.9289\n",
      "Epoch 69/1000\n",
      "23/30 [======================>.......] - ETA: 0s - loss: 0.6812 - accuracy: 0.7459\n",
      "Epoch 69: saving model to model/keypoint_classifier/keypoint_classifier.hdf5\n",
      "30/30 [==============================] - 0s 5ms/step - loss: 0.6738 - accuracy: 0.7501 - val_loss: 0.3208 - val_accuracy: 0.9281\n",
      "Epoch 70/1000\n",
      "24/30 [=======================>......] - ETA: 0s - loss: 0.6666 - accuracy: 0.7526\n",
      "Epoch 70: saving model to model/keypoint_classifier/keypoint_classifier.hdf5\n",
      "30/30 [==============================] - 0s 5ms/step - loss: 0.6644 - accuracy: 0.7556 - val_loss: 0.3076 - val_accuracy: 0.9392\n",
      "Epoch 71/1000\n",
      "24/30 [=======================>......] - ETA: 0s - loss: 0.6739 - accuracy: 0.7559\n",
      "Epoch 71: saving model to model/keypoint_classifier/keypoint_classifier.hdf5\n",
      "30/30 [==============================] - 0s 4ms/step - loss: 0.6649 - accuracy: 0.7577 - val_loss: 0.3099 - val_accuracy: 0.9439\n",
      "Epoch 72/1000\n",
      "24/30 [=======================>......] - ETA: 0s - loss: 0.6644 - accuracy: 0.7572\n",
      "Epoch 72: saving model to model/keypoint_classifier/keypoint_classifier.hdf5\n",
      "30/30 [==============================] - 0s 5ms/step - loss: 0.6662 - accuracy: 0.7574 - val_loss: 0.3113 - val_accuracy: 0.9400\n",
      "Epoch 73/1000\n",
      "25/30 [========================>.....] - ETA: 0s - loss: 0.6550 - accuracy: 0.7572\n",
      "Epoch 73: saving model to model/keypoint_classifier/keypoint_classifier.hdf5\n",
      "30/30 [==============================] - 0s 5ms/step - loss: 0.6522 - accuracy: 0.7577 - val_loss: 0.3050 - val_accuracy: 0.9423\n",
      "Epoch 74/1000\n",
      "24/30 [=======================>......] - ETA: 0s - loss: 0.6433 - accuracy: 0.7630\n",
      "Epoch 74: saving model to model/keypoint_classifier/keypoint_classifier.hdf5\n",
      "30/30 [==============================] - 0s 5ms/step - loss: 0.6364 - accuracy: 0.7693 - val_loss: 0.2981 - val_accuracy: 0.9415\n",
      "Epoch 75/1000\n",
      "20/30 [===================>..........] - ETA: 0s - loss: 0.6702 - accuracy: 0.7523\n",
      "Epoch 75: saving model to model/keypoint_classifier/keypoint_classifier.hdf5\n",
      "30/30 [==============================] - 0s 5ms/step - loss: 0.6596 - accuracy: 0.7582 - val_loss: 0.3045 - val_accuracy: 0.9447\n",
      "Epoch 76/1000\n",
      "22/30 [=====================>........] - ETA: 0s - loss: 0.6342 - accuracy: 0.7731\n",
      "Epoch 76: saving model to model/keypoint_classifier/keypoint_classifier.hdf5\n",
      "30/30 [==============================] - 0s 5ms/step - loss: 0.6343 - accuracy: 0.7685 - val_loss: 0.2958 - val_accuracy: 0.9494\n",
      "Epoch 77/1000\n",
      "24/30 [=======================>......] - ETA: 0s - loss: 0.6371 - accuracy: 0.7721\n",
      "Epoch 77: saving model to model/keypoint_classifier/keypoint_classifier.hdf5\n",
      "30/30 [==============================] - 0s 5ms/step - loss: 0.6313 - accuracy: 0.7732 - val_loss: 0.2933 - val_accuracy: 0.9352\n",
      "Epoch 78/1000\n",
      "19/30 [==================>...........] - ETA: 0s - loss: 0.6527 - accuracy: 0.7566\n",
      "Epoch 78: saving model to model/keypoint_classifier/keypoint_classifier.hdf5\n",
      "30/30 [==============================] - 0s 8ms/step - loss: 0.6486 - accuracy: 0.7564 - val_loss: 0.2938 - val_accuracy: 0.9502\n",
      "Epoch 79/1000\n",
      "24/30 [=======================>......] - ETA: 0s - loss: 0.6469 - accuracy: 0.7660\n",
      "Epoch 79: saving model to model/keypoint_classifier/keypoint_classifier.hdf5\n",
      "30/30 [==============================] - 0s 5ms/step - loss: 0.6467 - accuracy: 0.7703 - val_loss: 0.2955 - val_accuracy: 0.9502\n",
      "Epoch 80/1000\n",
      "24/30 [=======================>......] - ETA: 0s - loss: 0.6445 - accuracy: 0.7533\n",
      "Epoch 80: saving model to model/keypoint_classifier/keypoint_classifier.hdf5\n",
      "30/30 [==============================] - 0s 5ms/step - loss: 0.6443 - accuracy: 0.7580 - val_loss: 0.2920 - val_accuracy: 0.9502\n",
      "Epoch 81/1000\n",
      "24/30 [=======================>......] - ETA: 0s - loss: 0.6207 - accuracy: 0.7751\n",
      "Epoch 81: saving model to model/keypoint_classifier/keypoint_classifier.hdf5\n",
      "30/30 [==============================] - 0s 5ms/step - loss: 0.6308 - accuracy: 0.7717 - val_loss: 0.2862 - val_accuracy: 0.9510\n",
      "Epoch 82/1000\n",
      "23/30 [======================>.......] - ETA: 0s - loss: 0.6321 - accuracy: 0.7609\n",
      "Epoch 82: saving model to model/keypoint_classifier/keypoint_classifier.hdf5\n",
      "30/30 [==============================] - 0s 5ms/step - loss: 0.6265 - accuracy: 0.7659 - val_loss: 0.2898 - val_accuracy: 0.9447\n",
      "Epoch 83/1000\n",
      "23/30 [======================>.......] - ETA: 0s - loss: 0.6106 - accuracy: 0.7792\n",
      "Epoch 83: saving model to model/keypoint_classifier/keypoint_classifier.hdf5\n",
      "30/30 [==============================] - 0s 5ms/step - loss: 0.6115 - accuracy: 0.7801 - val_loss: 0.2916 - val_accuracy: 0.9494\n",
      "Epoch 84/1000\n",
      "21/30 [====================>.........] - ETA: 0s - loss: 0.6232 - accuracy: 0.7731\n",
      "Epoch 84: saving model to model/keypoint_classifier/keypoint_classifier.hdf5\n",
      "30/30 [==============================] - 0s 5ms/step - loss: 0.6264 - accuracy: 0.7677 - val_loss: 0.2828 - val_accuracy: 0.9542\n",
      "Epoch 85/1000\n",
      "24/30 [=======================>......] - ETA: 0s - loss: 0.6242 - accuracy: 0.7653\n",
      "Epoch 85: saving model to model/keypoint_classifier/keypoint_classifier.hdf5\n",
      "30/30 [==============================] - 0s 5ms/step - loss: 0.6225 - accuracy: 0.7672 - val_loss: 0.2922 - val_accuracy: 0.9415\n",
      "Epoch 86/1000\n",
      "23/30 [======================>.......] - ETA: 0s - loss: 0.6187 - accuracy: 0.7714\n",
      "Epoch 86: saving model to model/keypoint_classifier/keypoint_classifier.hdf5\n",
      "30/30 [==============================] - 0s 5ms/step - loss: 0.6160 - accuracy: 0.7738 - val_loss: 0.2733 - val_accuracy: 0.9526\n",
      "Epoch 87/1000\n",
      "23/30 [======================>.......] - ETA: 0s - loss: 0.6112 - accuracy: 0.7775\n",
      "Epoch 87: saving model to model/keypoint_classifier/keypoint_classifier.hdf5\n",
      "30/30 [==============================] - 0s 5ms/step - loss: 0.6276 - accuracy: 0.7730 - val_loss: 0.2776 - val_accuracy: 0.9534\n",
      "Epoch 88/1000\n",
      "23/30 [======================>.......] - ETA: 0s - loss: 0.6415 - accuracy: 0.7673\n",
      "Epoch 88: saving model to model/keypoint_classifier/keypoint_classifier.hdf5\n",
      "30/30 [==============================] - 0s 5ms/step - loss: 0.6455 - accuracy: 0.7640 - val_loss: 0.2749 - val_accuracy: 0.9558\n",
      "Epoch 89/1000\n",
      "23/30 [======================>.......] - ETA: 0s - loss: 0.6192 - accuracy: 0.7779\n",
      "Epoch 89: saving model to model/keypoint_classifier/keypoint_classifier.hdf5\n",
      "30/30 [==============================] - 0s 5ms/step - loss: 0.6231 - accuracy: 0.7801 - val_loss: 0.2755 - val_accuracy: 0.9487\n",
      "Epoch 90/1000\n",
      "24/30 [=======================>......] - ETA: 0s - loss: 0.6124 - accuracy: 0.7848\n",
      "Epoch 90: saving model to model/keypoint_classifier/keypoint_classifier.hdf5\n",
      "30/30 [==============================] - 0s 5ms/step - loss: 0.6056 - accuracy: 0.7867 - val_loss: 0.2761 - val_accuracy: 0.9558\n",
      "Epoch 91/1000\n",
      "19/30 [==================>...........] - ETA: 0s - loss: 0.6210 - accuracy: 0.7808\n",
      "Epoch 91: saving model to model/keypoint_classifier/keypoint_classifier.hdf5\n",
      "30/30 [==============================] - 0s 5ms/step - loss: 0.6090 - accuracy: 0.7835 - val_loss: 0.2732 - val_accuracy: 0.9597\n",
      "Epoch 92/1000\n",
      "22/30 [=====================>........] - ETA: 0s - loss: 0.6424 - accuracy: 0.7603\n",
      "Epoch 92: saving model to model/keypoint_classifier/keypoint_classifier.hdf5\n",
      "30/30 [==============================] - 0s 5ms/step - loss: 0.6231 - accuracy: 0.7653 - val_loss: 0.2806 - val_accuracy: 0.9526\n",
      "Epoch 93/1000\n",
      "23/30 [======================>.......] - ETA: 0s - loss: 0.6393 - accuracy: 0.7690\n",
      "Epoch 93: saving model to model/keypoint_classifier/keypoint_classifier.hdf5\n",
      "30/30 [==============================] - 0s 5ms/step - loss: 0.6372 - accuracy: 0.7688 - val_loss: 0.2742 - val_accuracy: 0.9566\n",
      "Epoch 94/1000\n",
      "23/30 [======================>.......] - ETA: 0s - loss: 0.6132 - accuracy: 0.7819\n",
      "Epoch 94: saving model to model/keypoint_classifier/keypoint_classifier.hdf5\n",
      "30/30 [==============================] - 0s 5ms/step - loss: 0.6243 - accuracy: 0.7748 - val_loss: 0.2809 - val_accuracy: 0.9479\n",
      "Epoch 95/1000\n",
      "23/30 [======================>.......] - ETA: 0s - loss: 0.6151 - accuracy: 0.7728\n",
      "Epoch 95: saving model to model/keypoint_classifier/keypoint_classifier.hdf5\n",
      "30/30 [==============================] - 0s 5ms/step - loss: 0.6222 - accuracy: 0.7709 - val_loss: 0.2718 - val_accuracy: 0.9573\n",
      "Epoch 96/1000\n",
      "23/30 [======================>.......] - ETA: 0s - loss: 0.6143 - accuracy: 0.7802\n",
      "Epoch 96: saving model to model/keypoint_classifier/keypoint_classifier.hdf5\n",
      "30/30 [==============================] - 0s 5ms/step - loss: 0.6112 - accuracy: 0.7780 - val_loss: 0.2761 - val_accuracy: 0.9550\n",
      "Epoch 97/1000\n",
      "23/30 [======================>.......] - ETA: 0s - loss: 0.6146 - accuracy: 0.7765\n",
      "Epoch 97: saving model to model/keypoint_classifier/keypoint_classifier.hdf5\n",
      "30/30 [==============================] - 0s 5ms/step - loss: 0.6179 - accuracy: 0.7767 - val_loss: 0.2707 - val_accuracy: 0.9558\n",
      "Epoch 98/1000\n",
      "23/30 [======================>.......] - ETA: 0s - loss: 0.5934 - accuracy: 0.7809\n",
      "Epoch 98: saving model to model/keypoint_classifier/keypoint_classifier.hdf5\n",
      "30/30 [==============================] - 0s 5ms/step - loss: 0.6019 - accuracy: 0.7777 - val_loss: 0.2678 - val_accuracy: 0.9558\n",
      "Epoch 99/1000\n",
      "24/30 [=======================>......] - ETA: 0s - loss: 0.6183 - accuracy: 0.7770\n",
      "Epoch 99: saving model to model/keypoint_classifier/keypoint_classifier.hdf5\n",
      "30/30 [==============================] - 0s 9ms/step - loss: 0.6197 - accuracy: 0.7727 - val_loss: 0.2695 - val_accuracy: 0.9566\n",
      "Epoch 100/1000\n",
      "25/30 [========================>.....] - ETA: 0s - loss: 0.6152 - accuracy: 0.7697\n",
      "Epoch 100: saving model to model/keypoint_classifier/keypoint_classifier.hdf5\n",
      "30/30 [==============================] - 0s 5ms/step - loss: 0.6209 - accuracy: 0.7701 - val_loss: 0.2764 - val_accuracy: 0.9566\n",
      "Epoch 101/1000\n",
      "21/30 [====================>.........] - ETA: 0s - loss: 0.5891 - accuracy: 0.7954\n",
      "Epoch 101: saving model to model/keypoint_classifier/keypoint_classifier.hdf5\n",
      "30/30 [==============================] - 0s 5ms/step - loss: 0.5937 - accuracy: 0.7912 - val_loss: 0.2701 - val_accuracy: 0.9566\n",
      "Epoch 102/1000\n",
      "25/30 [========================>.....] - ETA: 0s - loss: 0.5786 - accuracy: 0.7853\n",
      "Epoch 102: saving model to model/keypoint_classifier/keypoint_classifier.hdf5\n",
      "30/30 [==============================] - 0s 5ms/step - loss: 0.5870 - accuracy: 0.7825 - val_loss: 0.2568 - val_accuracy: 0.9613\n",
      "Epoch 103/1000\n",
      "24/30 [=======================>......] - ETA: 0s - loss: 0.6168 - accuracy: 0.7839\n",
      "Epoch 103: saving model to model/keypoint_classifier/keypoint_classifier.hdf5\n",
      "30/30 [==============================] - 0s 5ms/step - loss: 0.6161 - accuracy: 0.7801 - val_loss: 0.2725 - val_accuracy: 0.9550\n",
      "Epoch 104/1000\n",
      "24/30 [=======================>......] - ETA: 0s - loss: 0.6001 - accuracy: 0.7852\n",
      "Epoch 104: saving model to model/keypoint_classifier/keypoint_classifier.hdf5\n",
      "30/30 [==============================] - 0s 5ms/step - loss: 0.6000 - accuracy: 0.7801 - val_loss: 0.2673 - val_accuracy: 0.9566\n",
      "Epoch 105/1000\n",
      "24/30 [=======================>......] - ETA: 0s - loss: 0.6033 - accuracy: 0.7861\n",
      "Epoch 105: saving model to model/keypoint_classifier/keypoint_classifier.hdf5\n",
      "30/30 [==============================] - 0s 5ms/step - loss: 0.6021 - accuracy: 0.7885 - val_loss: 0.2634 - val_accuracy: 0.9566\n",
      "Epoch 106/1000\n",
      "24/30 [=======================>......] - ETA: 0s - loss: 0.6009 - accuracy: 0.7741\n",
      "Epoch 106: saving model to model/keypoint_classifier/keypoint_classifier.hdf5\n",
      "30/30 [==============================] - 0s 5ms/step - loss: 0.6065 - accuracy: 0.7722 - val_loss: 0.2612 - val_accuracy: 0.9581\n",
      "Epoch 107/1000\n",
      "23/30 [======================>.......] - ETA: 0s - loss: 0.5805 - accuracy: 0.7891\n",
      "Epoch 107: saving model to model/keypoint_classifier/keypoint_classifier.hdf5\n",
      "30/30 [==============================] - 0s 5ms/step - loss: 0.5794 - accuracy: 0.7898 - val_loss: 0.2583 - val_accuracy: 0.9613\n",
      "Epoch 108/1000\n",
      "23/30 [======================>.......] - ETA: 0s - loss: 0.6061 - accuracy: 0.7816\n",
      "Epoch 108: saving model to model/keypoint_classifier/keypoint_classifier.hdf5\n",
      "30/30 [==============================] - 0s 5ms/step - loss: 0.6019 - accuracy: 0.7819 - val_loss: 0.2581 - val_accuracy: 0.9573\n",
      "Epoch 109/1000\n",
      "25/30 [========================>.....] - ETA: 0s - loss: 0.6054 - accuracy: 0.7775\n",
      "Epoch 109: saving model to model/keypoint_classifier/keypoint_classifier.hdf5\n",
      "30/30 [==============================] - 0s 5ms/step - loss: 0.6092 - accuracy: 0.7753 - val_loss: 0.2583 - val_accuracy: 0.9613\n",
      "Epoch 110/1000\n",
      "24/30 [=======================>......] - ETA: 0s - loss: 0.5921 - accuracy: 0.7891\n",
      "Epoch 110: saving model to model/keypoint_classifier/keypoint_classifier.hdf5\n",
      "30/30 [==============================] - 0s 5ms/step - loss: 0.5913 - accuracy: 0.7885 - val_loss: 0.2577 - val_accuracy: 0.9573\n",
      "Epoch 111/1000\n",
      "24/30 [=======================>......] - ETA: 0s - loss: 0.6047 - accuracy: 0.7819\n",
      "Epoch 111: saving model to model/keypoint_classifier/keypoint_classifier.hdf5\n",
      "30/30 [==============================] - 0s 5ms/step - loss: 0.5968 - accuracy: 0.7872 - val_loss: 0.2642 - val_accuracy: 0.9534\n",
      "Epoch 112/1000\n",
      "24/30 [=======================>......] - ETA: 0s - loss: 0.5968 - accuracy: 0.7796\n",
      "Epoch 112: saving model to model/keypoint_classifier/keypoint_classifier.hdf5\n",
      "30/30 [==============================] - 0s 5ms/step - loss: 0.6084 - accuracy: 0.7790 - val_loss: 0.2515 - val_accuracy: 0.9637\n",
      "Epoch 113/1000\n",
      "23/30 [======================>.......] - ETA: 0s - loss: 0.6083 - accuracy: 0.7867\n",
      "Epoch 113: saving model to model/keypoint_classifier/keypoint_classifier.hdf5\n",
      "30/30 [==============================] - 0s 5ms/step - loss: 0.5930 - accuracy: 0.7914 - val_loss: 0.2606 - val_accuracy: 0.9573\n",
      "Epoch 114/1000\n",
      "24/30 [=======================>......] - ETA: 0s - loss: 0.5668 - accuracy: 0.7979\n",
      "Epoch 114: saving model to model/keypoint_classifier/keypoint_classifier.hdf5\n",
      "30/30 [==============================] - 0s 5ms/step - loss: 0.5707 - accuracy: 0.7914 - val_loss: 0.2484 - val_accuracy: 0.9613\n",
      "Epoch 115/1000\n",
      "23/30 [======================>.......] - ETA: 0s - loss: 0.6081 - accuracy: 0.7846\n",
      "Epoch 115: saving model to model/keypoint_classifier/keypoint_classifier.hdf5\n",
      "30/30 [==============================] - 0s 5ms/step - loss: 0.5988 - accuracy: 0.7901 - val_loss: 0.2525 - val_accuracy: 0.9573\n",
      "Epoch 116/1000\n",
      "24/30 [=======================>......] - ETA: 0s - loss: 0.5963 - accuracy: 0.7861\n",
      "Epoch 116: saving model to model/keypoint_classifier/keypoint_classifier.hdf5\n",
      "30/30 [==============================] - 0s 5ms/step - loss: 0.5896 - accuracy: 0.7883 - val_loss: 0.2571 - val_accuracy: 0.9581\n",
      "Epoch 117/1000\n",
      "23/30 [======================>.......] - ETA: 0s - loss: 0.5549 - accuracy: 0.8006\n",
      "Epoch 117: saving model to model/keypoint_classifier/keypoint_classifier.hdf5\n",
      "30/30 [==============================] - 0s 5ms/step - loss: 0.5567 - accuracy: 0.7967 - val_loss: 0.2422 - val_accuracy: 0.9621\n",
      "Epoch 118/1000\n",
      "25/30 [========================>.....] - ETA: 0s - loss: 0.5905 - accuracy: 0.7931\n",
      "Epoch 118: saving model to model/keypoint_classifier/keypoint_classifier.hdf5\n",
      "30/30 [==============================] - 0s 8ms/step - loss: 0.5940 - accuracy: 0.7930 - val_loss: 0.2477 - val_accuracy: 0.9621\n",
      "Epoch 119/1000\n",
      "21/30 [====================>.........] - ETA: 0s - loss: 0.5862 - accuracy: 0.7906\n",
      "Epoch 119: saving model to model/keypoint_classifier/keypoint_classifier.hdf5\n",
      "30/30 [==============================] - 0s 5ms/step - loss: 0.5794 - accuracy: 0.7917 - val_loss: 0.2459 - val_accuracy: 0.9550\n",
      "Epoch 120/1000\n",
      "24/30 [=======================>......] - ETA: 0s - loss: 0.5996 - accuracy: 0.7786\n",
      "Epoch 120: saving model to model/keypoint_classifier/keypoint_classifier.hdf5\n",
      "30/30 [==============================] - 0s 5ms/step - loss: 0.5935 - accuracy: 0.7806 - val_loss: 0.2542 - val_accuracy: 0.9534\n",
      "Epoch 121/1000\n",
      "24/30 [=======================>......] - ETA: 0s - loss: 0.6072 - accuracy: 0.7751\n",
      "Epoch 121: saving model to model/keypoint_classifier/keypoint_classifier.hdf5\n",
      "30/30 [==============================] - 0s 5ms/step - loss: 0.6049 - accuracy: 0.7769 - val_loss: 0.2461 - val_accuracy: 0.9621\n",
      "Epoch 122/1000\n",
      "19/30 [==================>...........] - ETA: 0s - loss: 0.5973 - accuracy: 0.7911\n",
      "Epoch 122: saving model to model/keypoint_classifier/keypoint_classifier.hdf5\n",
      "30/30 [==============================] - 0s 5ms/step - loss: 0.5910 - accuracy: 0.7885 - val_loss: 0.2495 - val_accuracy: 0.9550\n",
      "Epoch 123/1000\n",
      "20/30 [===================>..........] - ETA: 0s - loss: 0.5916 - accuracy: 0.7937\n",
      "Epoch 123: saving model to model/keypoint_classifier/keypoint_classifier.hdf5\n",
      "30/30 [==============================] - 0s 5ms/step - loss: 0.5851 - accuracy: 0.7943 - val_loss: 0.2453 - val_accuracy: 0.9605\n",
      "Epoch 124/1000\n",
      "22/30 [=====================>........] - ETA: 0s - loss: 0.5708 - accuracy: 0.7944\n",
      "Epoch 124: saving model to model/keypoint_classifier/keypoint_classifier.hdf5\n",
      "30/30 [==============================] - 0s 5ms/step - loss: 0.5777 - accuracy: 0.7935 - val_loss: 0.2465 - val_accuracy: 0.9573\n",
      "Epoch 125/1000\n",
      "23/30 [======================>.......] - ETA: 0s - loss: 0.5792 - accuracy: 0.7874\n",
      "Epoch 125: saving model to model/keypoint_classifier/keypoint_classifier.hdf5\n",
      "30/30 [==============================] - 0s 5ms/step - loss: 0.5695 - accuracy: 0.7927 - val_loss: 0.2472 - val_accuracy: 0.9605\n",
      "Epoch 126/1000\n",
      "23/30 [======================>.......] - ETA: 0s - loss: 0.5826 - accuracy: 0.7894\n",
      "Epoch 126: saving model to model/keypoint_classifier/keypoint_classifier.hdf5\n",
      "30/30 [==============================] - 0s 5ms/step - loss: 0.5809 - accuracy: 0.7925 - val_loss: 0.2370 - val_accuracy: 0.9597\n",
      "Epoch 127/1000\n",
      "23/30 [======================>.......] - ETA: 0s - loss: 0.5672 - accuracy: 0.7931\n",
      "Epoch 127: saving model to model/keypoint_classifier/keypoint_classifier.hdf5\n",
      "30/30 [==============================] - 0s 5ms/step - loss: 0.5752 - accuracy: 0.7922 - val_loss: 0.2411 - val_accuracy: 0.9629\n",
      "Epoch 128/1000\n",
      "23/30 [======================>.......] - ETA: 0s - loss: 0.5897 - accuracy: 0.7942\n",
      "Epoch 128: saving model to model/keypoint_classifier/keypoint_classifier.hdf5\n",
      "30/30 [==============================] - 0s 5ms/step - loss: 0.5769 - accuracy: 0.7975 - val_loss: 0.2407 - val_accuracy: 0.9652\n",
      "Epoch 129/1000\n",
      "23/30 [======================>.......] - ETA: 0s - loss: 0.5552 - accuracy: 0.7976\n",
      "Epoch 129: saving model to model/keypoint_classifier/keypoint_classifier.hdf5\n",
      "30/30 [==============================] - 0s 5ms/step - loss: 0.5595 - accuracy: 0.7962 - val_loss: 0.2336 - val_accuracy: 0.9652\n",
      "Epoch 130/1000\n",
      "20/30 [===================>..........] - ETA: 0s - loss: 0.5671 - accuracy: 0.7895\n",
      "Epoch 130: saving model to model/keypoint_classifier/keypoint_classifier.hdf5\n",
      "30/30 [==============================] - 0s 5ms/step - loss: 0.5674 - accuracy: 0.7946 - val_loss: 0.2374 - val_accuracy: 0.9637\n",
      "Epoch 131/1000\n",
      "21/30 [====================>.........] - ETA: 0s - loss: 0.6127 - accuracy: 0.7831\n",
      "Epoch 131: saving model to model/keypoint_classifier/keypoint_classifier.hdf5\n",
      "30/30 [==============================] - 0s 5ms/step - loss: 0.5927 - accuracy: 0.7848 - val_loss: 0.2489 - val_accuracy: 0.9581\n",
      "Epoch 132/1000\n",
      "24/30 [=======================>......] - ETA: 0s - loss: 0.5944 - accuracy: 0.7884\n",
      "Epoch 132: saving model to model/keypoint_classifier/keypoint_classifier.hdf5\n",
      "30/30 [==============================] - 0s 8ms/step - loss: 0.5877 - accuracy: 0.7893 - val_loss: 0.2409 - val_accuracy: 0.9597\n",
      "Epoch 133/1000\n",
      "24/30 [=======================>......] - ETA: 0s - loss: 0.5540 - accuracy: 0.8005\n",
      "Epoch 133: saving model to model/keypoint_classifier/keypoint_classifier.hdf5\n",
      "30/30 [==============================] - 0s 5ms/step - loss: 0.5428 - accuracy: 0.8048 - val_loss: 0.2421 - val_accuracy: 0.9526\n",
      "Epoch 134/1000\n",
      "23/30 [======================>.......] - ETA: 0s - loss: 0.5747 - accuracy: 0.7942\n",
      "Epoch 134: saving model to model/keypoint_classifier/keypoint_classifier.hdf5\n",
      "30/30 [==============================] - 0s 5ms/step - loss: 0.5709 - accuracy: 0.7933 - val_loss: 0.2333 - val_accuracy: 0.9629\n",
      "Epoch 135/1000\n",
      "23/30 [======================>.......] - ETA: 0s - loss: 0.5519 - accuracy: 0.8043\n",
      "Epoch 135: saving model to model/keypoint_classifier/keypoint_classifier.hdf5\n",
      "30/30 [==============================] - 0s 5ms/step - loss: 0.5606 - accuracy: 0.7988 - val_loss: 0.2322 - val_accuracy: 0.9597\n",
      "Epoch 136/1000\n",
      "23/30 [======================>.......] - ETA: 0s - loss: 0.5756 - accuracy: 0.7931\n",
      "Epoch 136: saving model to model/keypoint_classifier/keypoint_classifier.hdf5\n",
      "30/30 [==============================] - 0s 5ms/step - loss: 0.5699 - accuracy: 0.7946 - val_loss: 0.2266 - val_accuracy: 0.9645\n",
      "Epoch 137/1000\n",
      "24/30 [=======================>......] - ETA: 0s - loss: 0.5766 - accuracy: 0.7910\n",
      "Epoch 137: saving model to model/keypoint_classifier/keypoint_classifier.hdf5\n",
      "30/30 [==============================] - 0s 5ms/step - loss: 0.5788 - accuracy: 0.7933 - val_loss: 0.2337 - val_accuracy: 0.9605\n",
      "Epoch 138/1000\n",
      "24/30 [=======================>......] - ETA: 0s - loss: 0.5726 - accuracy: 0.7992\n",
      "Epoch 138: saving model to model/keypoint_classifier/keypoint_classifier.hdf5\n",
      "30/30 [==============================] - 0s 5ms/step - loss: 0.5834 - accuracy: 0.7940 - val_loss: 0.2398 - val_accuracy: 0.9605\n",
      "Epoch 139/1000\n",
      "23/30 [======================>.......] - ETA: 0s - loss: 0.5825 - accuracy: 0.7877\n",
      "Epoch 139: saving model to model/keypoint_classifier/keypoint_classifier.hdf5\n",
      "30/30 [==============================] - 0s 5ms/step - loss: 0.5886 - accuracy: 0.7854 - val_loss: 0.2355 - val_accuracy: 0.9605\n",
      "Epoch 140/1000\n",
      "24/30 [=======================>......] - ETA: 0s - loss: 0.5625 - accuracy: 0.7956\n",
      "Epoch 140: saving model to model/keypoint_classifier/keypoint_classifier.hdf5\n",
      "30/30 [==============================] - 0s 5ms/step - loss: 0.5689 - accuracy: 0.7927 - val_loss: 0.2347 - val_accuracy: 0.9581\n",
      "Epoch 141/1000\n",
      "23/30 [======================>.......] - ETA: 0s - loss: 0.5672 - accuracy: 0.7928\n",
      "Epoch 141: saving model to model/keypoint_classifier/keypoint_classifier.hdf5\n",
      "30/30 [==============================] - 0s 5ms/step - loss: 0.5720 - accuracy: 0.7938 - val_loss: 0.2391 - val_accuracy: 0.9566\n",
      "Epoch 142/1000\n",
      "24/30 [=======================>......] - ETA: 0s - loss: 0.5605 - accuracy: 0.8021\n",
      "Epoch 142: saving model to model/keypoint_classifier/keypoint_classifier.hdf5\n",
      "30/30 [==============================] - 0s 5ms/step - loss: 0.5732 - accuracy: 0.7977 - val_loss: 0.2392 - val_accuracy: 0.9613\n",
      "Epoch 143/1000\n",
      "24/30 [=======================>......] - ETA: 0s - loss: 0.5589 - accuracy: 0.7988\n",
      "Epoch 143: saving model to model/keypoint_classifier/keypoint_classifier.hdf5\n",
      "30/30 [==============================] - 0s 5ms/step - loss: 0.5647 - accuracy: 0.7946 - val_loss: 0.2372 - val_accuracy: 0.9566\n",
      "Epoch 144/1000\n",
      "23/30 [======================>.......] - ETA: 0s - loss: 0.5628 - accuracy: 0.7989\n",
      "Epoch 144: saving model to model/keypoint_classifier/keypoint_classifier.hdf5\n",
      "30/30 [==============================] - 0s 5ms/step - loss: 0.5714 - accuracy: 0.7959 - val_loss: 0.2379 - val_accuracy: 0.9613\n",
      "Epoch 145/1000\n",
      "23/30 [======================>.......] - ETA: 0s - loss: 0.5364 - accuracy: 0.8091\n",
      "Epoch 145: saving model to model/keypoint_classifier/keypoint_classifier.hdf5\n",
      "30/30 [==============================] - 0s 5ms/step - loss: 0.5444 - accuracy: 0.8070 - val_loss: 0.2324 - val_accuracy: 0.9621\n",
      "Epoch 146/1000\n",
      "25/30 [========================>.....] - ETA: 0s - loss: 0.5689 - accuracy: 0.8031\n",
      "Epoch 146: saving model to model/keypoint_classifier/keypoint_classifier.hdf5\n",
      "30/30 [==============================] - 0s 5ms/step - loss: 0.5630 - accuracy: 0.8064 - val_loss: 0.2385 - val_accuracy: 0.9573\n",
      "Epoch 147/1000\n",
      "22/30 [=====================>........] - ETA: 0s - loss: 0.5695 - accuracy: 0.7937\n",
      "Epoch 147: saving model to model/keypoint_classifier/keypoint_classifier.hdf5\n",
      "30/30 [==============================] - 0s 8ms/step - loss: 0.5834 - accuracy: 0.7930 - val_loss: 0.2399 - val_accuracy: 0.9581\n",
      "Epoch 148/1000\n",
      "24/30 [=======================>......] - ETA: 0s - loss: 0.5699 - accuracy: 0.7913\n",
      "Epoch 148: saving model to model/keypoint_classifier/keypoint_classifier.hdf5\n",
      "30/30 [==============================] - 0s 5ms/step - loss: 0.5570 - accuracy: 0.7985 - val_loss: 0.2339 - val_accuracy: 0.9566\n",
      "Epoch 149/1000\n",
      "24/30 [=======================>......] - ETA: 0s - loss: 0.5594 - accuracy: 0.8079\n",
      "Epoch 149: saving model to model/keypoint_classifier/keypoint_classifier.hdf5\n",
      "30/30 [==============================] - 0s 5ms/step - loss: 0.5546 - accuracy: 0.8075 - val_loss: 0.2313 - val_accuracy: 0.9660\n",
      "Epoch 150/1000\n",
      "24/30 [=======================>......] - ETA: 0s - loss: 0.5602 - accuracy: 0.7982\n",
      "Epoch 150: saving model to model/keypoint_classifier/keypoint_classifier.hdf5\n",
      "30/30 [==============================] - 0s 5ms/step - loss: 0.5577 - accuracy: 0.7985 - val_loss: 0.2306 - val_accuracy: 0.9534\n",
      "Epoch 151/1000\n",
      "24/30 [=======================>......] - ETA: 0s - loss: 0.5478 - accuracy: 0.8105\n",
      "Epoch 151: saving model to model/keypoint_classifier/keypoint_classifier.hdf5\n",
      "30/30 [==============================] - 0s 5ms/step - loss: 0.5478 - accuracy: 0.8088 - val_loss: 0.2245 - val_accuracy: 0.9621\n",
      "Epoch 152/1000\n",
      "23/30 [======================>.......] - ETA: 0s - loss: 0.5665 - accuracy: 0.7959\n",
      "Epoch 152: saving model to model/keypoint_classifier/keypoint_classifier.hdf5\n",
      "30/30 [==============================] - 0s 5ms/step - loss: 0.5540 - accuracy: 0.8030 - val_loss: 0.2343 - val_accuracy: 0.9629\n",
      "Epoch 153/1000\n",
      "24/30 [=======================>......] - ETA: 0s - loss: 0.5789 - accuracy: 0.8001\n",
      "Epoch 153: saving model to model/keypoint_classifier/keypoint_classifier.hdf5\n",
      "30/30 [==============================] - 0s 5ms/step - loss: 0.5745 - accuracy: 0.7996 - val_loss: 0.2307 - val_accuracy: 0.9621\n",
      "Epoch 154/1000\n",
      "23/30 [======================>.......] - ETA: 0s - loss: 0.5795 - accuracy: 0.7965\n",
      "Epoch 154: saving model to model/keypoint_classifier/keypoint_classifier.hdf5\n",
      "30/30 [==============================] - 0s 5ms/step - loss: 0.5776 - accuracy: 0.7972 - val_loss: 0.2388 - val_accuracy: 0.9597\n",
      "Epoch 155/1000\n",
      "24/30 [=======================>......] - ETA: 0s - loss: 0.5725 - accuracy: 0.7933\n",
      "Epoch 155: saving model to model/keypoint_classifier/keypoint_classifier.hdf5\n",
      "30/30 [==============================] - 0s 5ms/step - loss: 0.5680 - accuracy: 0.7930 - val_loss: 0.2254 - val_accuracy: 0.9605\n",
      "Epoch 156/1000\n",
      "23/30 [======================>.......] - ETA: 0s - loss: 0.5311 - accuracy: 0.8224\n",
      "Epoch 156: saving model to model/keypoint_classifier/keypoint_classifier.hdf5\n",
      "30/30 [==============================] - 0s 5ms/step - loss: 0.5371 - accuracy: 0.8170 - val_loss: 0.2272 - val_accuracy: 0.9597\n",
      "Epoch 157/1000\n",
      "24/30 [=======================>......] - ETA: 0s - loss: 0.5513 - accuracy: 0.8063\n",
      "Epoch 157: saving model to model/keypoint_classifier/keypoint_classifier.hdf5\n",
      "30/30 [==============================] - 0s 5ms/step - loss: 0.5556 - accuracy: 0.8075 - val_loss: 0.2331 - val_accuracy: 0.9550\n",
      "Epoch 158/1000\n",
      "23/30 [======================>.......] - ETA: 0s - loss: 0.5711 - accuracy: 0.8010\n",
      "Epoch 158: saving model to model/keypoint_classifier/keypoint_classifier.hdf5\n",
      "30/30 [==============================] - 0s 5ms/step - loss: 0.5741 - accuracy: 0.7996 - val_loss: 0.2267 - val_accuracy: 0.9613\n",
      "Epoch 159/1000\n",
      "24/30 [=======================>......] - ETA: 0s - loss: 0.5562 - accuracy: 0.8053\n",
      "Epoch 159: saving model to model/keypoint_classifier/keypoint_classifier.hdf5\n",
      "30/30 [==============================] - 0s 5ms/step - loss: 0.5553 - accuracy: 0.8048 - val_loss: 0.2250 - val_accuracy: 0.9637\n",
      "Epoch 160/1000\n",
      "22/30 [=====================>........] - ETA: 0s - loss: 0.5694 - accuracy: 0.8018\n",
      "Epoch 160: saving model to model/keypoint_classifier/keypoint_classifier.hdf5\n",
      "30/30 [==============================] - 0s 5ms/step - loss: 0.5712 - accuracy: 0.8006 - val_loss: 0.2394 - val_accuracy: 0.9597\n",
      "Epoch 161/1000\n",
      "27/30 [==========================>...] - ETA: 0s - loss: 0.5684 - accuracy: 0.8041\n",
      "Epoch 161: saving model to model/keypoint_classifier/keypoint_classifier.hdf5\n",
      "30/30 [==============================] - 0s 9ms/step - loss: 0.5622 - accuracy: 0.8064 - val_loss: 0.2368 - val_accuracy: 0.9581\n",
      "Epoch 162/1000\n",
      "22/30 [=====================>........] - ETA: 0s - loss: 0.5909 - accuracy: 0.7894\n",
      "Epoch 162: saving model to model/keypoint_classifier/keypoint_classifier.hdf5\n",
      "30/30 [==============================] - 0s 5ms/step - loss: 0.5801 - accuracy: 0.7925 - val_loss: 0.2260 - val_accuracy: 0.9629\n",
      "Epoch 163/1000\n",
      "22/30 [=====================>........] - ETA: 0s - loss: 0.5658 - accuracy: 0.7979\n",
      "Epoch 163: saving model to model/keypoint_classifier/keypoint_classifier.hdf5\n",
      "30/30 [==============================] - 0s 5ms/step - loss: 0.5695 - accuracy: 0.7975 - val_loss: 0.2215 - val_accuracy: 0.9613\n",
      "Epoch 164/1000\n",
      "23/30 [======================>.......] - ETA: 0s - loss: 0.5443 - accuracy: 0.8101\n",
      "Epoch 164: saving model to model/keypoint_classifier/keypoint_classifier.hdf5\n",
      "30/30 [==============================] - 0s 5ms/step - loss: 0.5376 - accuracy: 0.8127 - val_loss: 0.2228 - val_accuracy: 0.9605\n",
      "Epoch 165/1000\n",
      "25/30 [========================>.....] - ETA: 0s - loss: 0.5766 - accuracy: 0.7916\n",
      "Epoch 165: saving model to model/keypoint_classifier/keypoint_classifier.hdf5\n",
      "30/30 [==============================] - 0s 5ms/step - loss: 0.5742 - accuracy: 0.7930 - val_loss: 0.2306 - val_accuracy: 0.9637\n",
      "Epoch 166/1000\n",
      "23/30 [======================>.......] - ETA: 0s - loss: 0.5603 - accuracy: 0.8043\n",
      "Epoch 166: saving model to model/keypoint_classifier/keypoint_classifier.hdf5\n",
      "30/30 [==============================] - 0s 5ms/step - loss: 0.5534 - accuracy: 0.8054 - val_loss: 0.2270 - val_accuracy: 0.9597\n",
      "Epoch 167/1000\n",
      "24/30 [=======================>......] - ETA: 0s - loss: 0.5516 - accuracy: 0.7995\n",
      "Epoch 167: saving model to model/keypoint_classifier/keypoint_classifier.hdf5\n",
      "30/30 [==============================] - 0s 5ms/step - loss: 0.5506 - accuracy: 0.8030 - val_loss: 0.2299 - val_accuracy: 0.9558\n",
      "Epoch 168/1000\n",
      "22/30 [=====================>........] - ETA: 0s - loss: 0.5684 - accuracy: 0.7940\n",
      "Epoch 168: saving model to model/keypoint_classifier/keypoint_classifier.hdf5\n",
      "30/30 [==============================] - 0s 5ms/step - loss: 0.5654 - accuracy: 0.7935 - val_loss: 0.2267 - val_accuracy: 0.9645\n",
      "Epoch 169/1000\n",
      "20/30 [===================>..........] - ETA: 0s - loss: 0.5549 - accuracy: 0.8043\n",
      "Epoch 169: saving model to model/keypoint_classifier/keypoint_classifier.hdf5\n",
      "30/30 [==============================] - 0s 5ms/step - loss: 0.5628 - accuracy: 0.8046 - val_loss: 0.2299 - val_accuracy: 0.9542\n",
      "Epoch 170/1000\n",
      "23/30 [======================>.......] - ETA: 0s - loss: 0.5539 - accuracy: 0.7952\n",
      "Epoch 170: saving model to model/keypoint_classifier/keypoint_classifier.hdf5\n",
      "30/30 [==============================] - 0s 5ms/step - loss: 0.5581 - accuracy: 0.7954 - val_loss: 0.2302 - val_accuracy: 0.9629\n",
      "Epoch 171/1000\n",
      "24/30 [=======================>......] - ETA: 0s - loss: 0.5624 - accuracy: 0.8060\n",
      "Epoch 171: saving model to model/keypoint_classifier/keypoint_classifier.hdf5\n",
      "30/30 [==============================] - 0s 5ms/step - loss: 0.5676 - accuracy: 0.8030 - val_loss: 0.2298 - val_accuracy: 0.9589\n",
      "Epoch 172/1000\n",
      "24/30 [=======================>......] - ETA: 0s - loss: 0.5577 - accuracy: 0.8018\n",
      "Epoch 172: saving model to model/keypoint_classifier/keypoint_classifier.hdf5\n",
      "30/30 [==============================] - 0s 5ms/step - loss: 0.5565 - accuracy: 0.8017 - val_loss: 0.2201 - val_accuracy: 0.9621\n",
      "Epoch 173/1000\n",
      "22/30 [=====================>........] - ETA: 0s - loss: 0.5521 - accuracy: 0.8050\n",
      "Epoch 173: saving model to model/keypoint_classifier/keypoint_classifier.hdf5\n",
      "30/30 [==============================] - 0s 9ms/step - loss: 0.5520 - accuracy: 0.8046 - val_loss: 0.2187 - val_accuracy: 0.9716\n",
      "Epoch 174/1000\n",
      "22/30 [=====================>........] - ETA: 0s - loss: 0.5450 - accuracy: 0.8150\n",
      "Epoch 174: saving model to model/keypoint_classifier/keypoint_classifier.hdf5\n",
      "30/30 [==============================] - 0s 11ms/step - loss: 0.5562 - accuracy: 0.8104 - val_loss: 0.2239 - val_accuracy: 0.9550\n",
      "Epoch 175/1000\n",
      "24/30 [=======================>......] - ETA: 0s - loss: 0.5357 - accuracy: 0.8066\n",
      "Epoch 175: saving model to model/keypoint_classifier/keypoint_classifier.hdf5\n",
      "30/30 [==============================] - 0s 12ms/step - loss: 0.5475 - accuracy: 0.7991 - val_loss: 0.2251 - val_accuracy: 0.9605\n",
      "Epoch 176/1000\n",
      "22/30 [=====================>........] - ETA: 0s - loss: 0.5631 - accuracy: 0.8043\n",
      "Epoch 176: saving model to model/keypoint_classifier/keypoint_classifier.hdf5\n",
      "30/30 [==============================] - 0s 9ms/step - loss: 0.5595 - accuracy: 0.8014 - val_loss: 0.2211 - val_accuracy: 0.9629\n",
      "Epoch 177/1000\n",
      "15/30 [==============>...............] - ETA: 0s - loss: 0.5544 - accuracy: 0.8068\n",
      "Epoch 177: saving model to model/keypoint_classifier/keypoint_classifier.hdf5\n",
      "30/30 [==============================] - 0s 8ms/step - loss: 0.5485 - accuracy: 0.8048 - val_loss: 0.2183 - val_accuracy: 0.9668\n",
      "Epoch 178/1000\n",
      "29/30 [============================>.] - ETA: 0s - loss: 0.5574 - accuracy: 0.8025\n",
      "Epoch 178: saving model to model/keypoint_classifier/keypoint_classifier.hdf5\n",
      "30/30 [==============================] - 0s 16ms/step - loss: 0.5602 - accuracy: 0.8017 - val_loss: 0.2227 - val_accuracy: 0.9573\n",
      "Epoch 179/1000\n",
      "25/30 [========================>.....] - ETA: 0s - loss: 0.5429 - accuracy: 0.8116\n",
      "Epoch 179: saving model to model/keypoint_classifier/keypoint_classifier.hdf5\n",
      "30/30 [==============================] - 0s 13ms/step - loss: 0.5501 - accuracy: 0.8067 - val_loss: 0.2227 - val_accuracy: 0.9692\n",
      "Epoch 180/1000\n",
      "22/30 [=====================>........] - ETA: 0s - loss: 0.5450 - accuracy: 0.7997\n",
      "Epoch 180: saving model to model/keypoint_classifier/keypoint_classifier.hdf5\n",
      "30/30 [==============================] - 0s 10ms/step - loss: 0.5395 - accuracy: 0.8046 - val_loss: 0.2201 - val_accuracy: 0.9645\n",
      "Epoch 181/1000\n",
      "23/30 [======================>.......] - ETA: 0s - loss: 0.5537 - accuracy: 0.7979\n",
      "Epoch 181: saving model to model/keypoint_classifier/keypoint_classifier.hdf5\n",
      "30/30 [==============================] - 0s 8ms/step - loss: 0.5504 - accuracy: 0.8019 - val_loss: 0.2119 - val_accuracy: 0.9637\n",
      "Epoch 182/1000\n",
      "24/30 [=======================>......] - ETA: 0s - loss: 0.5479 - accuracy: 0.8060\n",
      "Epoch 182: saving model to model/keypoint_classifier/keypoint_classifier.hdf5\n",
      "30/30 [==============================] - 0s 8ms/step - loss: 0.5457 - accuracy: 0.8064 - val_loss: 0.2156 - val_accuracy: 0.9597\n",
      "Epoch 183/1000\n",
      "22/30 [=====================>........] - ETA: 0s - loss: 0.5734 - accuracy: 0.7926\n",
      "Epoch 183: saving model to model/keypoint_classifier/keypoint_classifier.hdf5\n",
      "30/30 [==============================] - 0s 8ms/step - loss: 0.5520 - accuracy: 0.8004 - val_loss: 0.2177 - val_accuracy: 0.9645\n",
      "Epoch 184/1000\n",
      "30/30 [==============================] - ETA: 0s - loss: 0.5526 - accuracy: 0.8009\n",
      "Epoch 184: saving model to model/keypoint_classifier/keypoint_classifier.hdf5\n",
      "30/30 [==============================] - 0s 12ms/step - loss: 0.5526 - accuracy: 0.8009 - val_loss: 0.2217 - val_accuracy: 0.9621\n",
      "Epoch 185/1000\n",
      "25/30 [========================>.....] - ETA: 0s - loss: 0.5306 - accuracy: 0.8091\n",
      "Epoch 185: saving model to model/keypoint_classifier/keypoint_classifier.hdf5\n",
      "30/30 [==============================] - 0s 16ms/step - loss: 0.5360 - accuracy: 0.8062 - val_loss: 0.2156 - val_accuracy: 0.9668\n",
      "Epoch 186/1000\n",
      "30/30 [==============================] - ETA: 0s - loss: 0.5322 - accuracy: 0.8193\n",
      "Epoch 186: saving model to model/keypoint_classifier/keypoint_classifier.hdf5\n",
      "30/30 [==============================] - 0s 10ms/step - loss: 0.5322 - accuracy: 0.8193 - val_loss: 0.2048 - val_accuracy: 0.9668\n",
      "Epoch 187/1000\n",
      "28/30 [===========================>..] - ETA: 0s - loss: 0.5470 - accuracy: 0.8030\n",
      "Epoch 187: saving model to model/keypoint_classifier/keypoint_classifier.hdf5\n",
      "30/30 [==============================] - 0s 10ms/step - loss: 0.5467 - accuracy: 0.8025 - val_loss: 0.2232 - val_accuracy: 0.9652\n",
      "Epoch 188/1000\n",
      "30/30 [==============================] - ETA: 0s - loss: 0.5437 - accuracy: 0.8077\n",
      "Epoch 188: saving model to model/keypoint_classifier/keypoint_classifier.hdf5\n",
      "30/30 [==============================] - 0s 10ms/step - loss: 0.5437 - accuracy: 0.8077 - val_loss: 0.2225 - val_accuracy: 0.9652\n",
      "Epoch 189/1000\n",
      "25/30 [========================>.....] - ETA: 0s - loss: 0.5294 - accuracy: 0.8122\n",
      "Epoch 189: saving model to model/keypoint_classifier/keypoint_classifier.hdf5\n",
      "30/30 [==============================] - 0s 9ms/step - loss: 0.5322 - accuracy: 0.8125 - val_loss: 0.2105 - val_accuracy: 0.9613\n",
      "Epoch 190/1000\n",
      "29/30 [============================>.] - ETA: 0s - loss: 0.5460 - accuracy: 0.8077\n",
      "Epoch 190: saving model to model/keypoint_classifier/keypoint_classifier.hdf5\n",
      "30/30 [==============================] - 0s 10ms/step - loss: 0.5484 - accuracy: 0.8062 - val_loss: 0.2124 - val_accuracy: 0.9668\n",
      "Epoch 191/1000\n",
      "19/30 [==================>...........] - ETA: 0s - loss: 0.5553 - accuracy: 0.8088\n",
      "Epoch 191: saving model to model/keypoint_classifier/keypoint_classifier.hdf5\n",
      "30/30 [==============================] - 0s 9ms/step - loss: 0.5569 - accuracy: 0.8035 - val_loss: 0.2146 - val_accuracy: 0.9621\n",
      "Epoch 192/1000\n",
      "21/30 [====================>.........] - ETA: 0s - loss: 0.5437 - accuracy: 0.8147\n",
      "Epoch 192: saving model to model/keypoint_classifier/keypoint_classifier.hdf5\n",
      "30/30 [==============================] - 0s 8ms/step - loss: 0.5363 - accuracy: 0.8180 - val_loss: 0.2160 - val_accuracy: 0.9660\n",
      "Epoch 193/1000\n",
      "17/30 [================>.............] - ETA: 0s - loss: 0.5576 - accuracy: 0.8010\n",
      "Epoch 193: saving model to model/keypoint_classifier/keypoint_classifier.hdf5\n",
      "30/30 [==============================] - 0s 9ms/step - loss: 0.5518 - accuracy: 0.8027 - val_loss: 0.2183 - val_accuracy: 0.9645\n",
      "Epoch 194/1000\n",
      "27/30 [==========================>...] - ETA: 0s - loss: 0.5426 - accuracy: 0.8079\n",
      "Epoch 194: saving model to model/keypoint_classifier/keypoint_classifier.hdf5\n",
      "30/30 [==============================] - 0s 13ms/step - loss: 0.5475 - accuracy: 0.8059 - val_loss: 0.2134 - val_accuracy: 0.9668\n",
      "Epoch 195/1000\n",
      "28/30 [===========================>..] - ETA: 0s - loss: 0.5407 - accuracy: 0.8075\n",
      "Epoch 195: saving model to model/keypoint_classifier/keypoint_classifier.hdf5\n",
      "30/30 [==============================] - 0s 9ms/step - loss: 0.5402 - accuracy: 0.8091 - val_loss: 0.2150 - val_accuracy: 0.9676\n",
      "Epoch 196/1000\n",
      "27/30 [==========================>...] - ETA: 0s - loss: 0.5408 - accuracy: 0.8001\n",
      "Epoch 196: saving model to model/keypoint_classifier/keypoint_classifier.hdf5\n",
      "30/30 [==============================] - 0s 8ms/step - loss: 0.5403 - accuracy: 0.8001 - val_loss: 0.2219 - val_accuracy: 0.9589\n",
      "Epoch 197/1000\n",
      "23/30 [======================>.......] - ETA: 0s - loss: 0.5641 - accuracy: 0.7989\n",
      "Epoch 197: saving model to model/keypoint_classifier/keypoint_classifier.hdf5\n",
      "30/30 [==============================] - 0s 8ms/step - loss: 0.5622 - accuracy: 0.7983 - val_loss: 0.2224 - val_accuracy: 0.9652\n",
      "Epoch 198/1000\n",
      "25/30 [========================>.....] - ETA: 0s - loss: 0.5519 - accuracy: 0.8041\n",
      "Epoch 198: saving model to model/keypoint_classifier/keypoint_classifier.hdf5\n",
      "30/30 [==============================] - 0s 7ms/step - loss: 0.5542 - accuracy: 0.8043 - val_loss: 0.2136 - val_accuracy: 0.9629\n",
      "Epoch 199/1000\n",
      "23/30 [======================>.......] - ETA: 0s - loss: 0.5339 - accuracy: 0.8125\n",
      "Epoch 199: saving model to model/keypoint_classifier/keypoint_classifier.hdf5\n",
      "30/30 [==============================] - 0s 9ms/step - loss: 0.5327 - accuracy: 0.8170 - val_loss: 0.2159 - val_accuracy: 0.9645\n",
      "Epoch 200/1000\n",
      "27/30 [==========================>...] - ETA: 0s - loss: 0.5594 - accuracy: 0.8012\n",
      "Epoch 200: saving model to model/keypoint_classifier/keypoint_classifier.hdf5\n",
      "30/30 [==============================] - 0s 10ms/step - loss: 0.5545 - accuracy: 0.8022 - val_loss: 0.2157 - val_accuracy: 0.9566\n",
      "Epoch 201/1000\n",
      "27/30 [==========================>...] - ETA: 0s - loss: 0.5100 - accuracy: 0.8235\n",
      "Epoch 201: saving model to model/keypoint_classifier/keypoint_classifier.hdf5\n",
      "30/30 [==============================] - 0s 7ms/step - loss: 0.5072 - accuracy: 0.8214 - val_loss: 0.2152 - val_accuracy: 0.9621\n",
      "Epoch 202/1000\n",
      "25/30 [========================>.....] - ETA: 0s - loss: 0.5335 - accuracy: 0.8109\n",
      "Epoch 202: saving model to model/keypoint_classifier/keypoint_classifier.hdf5\n",
      "30/30 [==============================] - 0s 8ms/step - loss: 0.5328 - accuracy: 0.8104 - val_loss: 0.2251 - val_accuracy: 0.9558\n",
      "Epoch 203/1000\n",
      "30/30 [==============================] - ETA: 0s - loss: 0.5665 - accuracy: 0.8009\n",
      "Epoch 203: saving model to model/keypoint_classifier/keypoint_classifier.hdf5\n",
      "30/30 [==============================] - 0s 17ms/step - loss: 0.5665 - accuracy: 0.8009 - val_loss: 0.2225 - val_accuracy: 0.9621\n",
      "Epoch 204/1000\n",
      "24/30 [=======================>......] - ETA: 0s - loss: 0.5186 - accuracy: 0.8151\n",
      "Epoch 204: saving model to model/keypoint_classifier/keypoint_classifier.hdf5\n",
      "30/30 [==============================] - 0s 11ms/step - loss: 0.5242 - accuracy: 0.8112 - val_loss: 0.2153 - val_accuracy: 0.9637\n",
      "Epoch 205/1000\n",
      "22/30 [=====================>........] - ETA: 0s - loss: 0.5563 - accuracy: 0.8022\n",
      "Epoch 205: saving model to model/keypoint_classifier/keypoint_classifier.hdf5\n",
      "30/30 [==============================] - 0s 8ms/step - loss: 0.5550 - accuracy: 0.8041 - val_loss: 0.2187 - val_accuracy: 0.9581\n",
      "Epoch 206/1000\n",
      "23/30 [======================>.......] - ETA: 0s - loss: 0.5363 - accuracy: 0.8101\n",
      "Epoch 206: saving model to model/keypoint_classifier/keypoint_classifier.hdf5\n",
      "30/30 [==============================] - 0s 8ms/step - loss: 0.5335 - accuracy: 0.8120 - val_loss: 0.2105 - val_accuracy: 0.9637\n",
      "Epoch 206: early stopping\n"
     ]
    },
    {
     "data": {
      "text/plain": [
       "<keras.src.callbacks.History at 0x723fbcd1da20>"
      ]
     },
     "execution_count": 35,
     "metadata": {},
     "output_type": "execute_result"
    }
   ],
   "source": [
    "model.fit(\n",
    "    X_train,\n",
    "    y_train,\n",
    "    epochs=1000,\n",
    "    batch_size=128,\n",
    "    validation_data=(X_test, y_test),\n",
    "    callbacks=[cp_callback, es_callback]\n",
    ")"
   ]
  },
  {
   "cell_type": "code",
   "execution_count": null,
   "metadata": {
    "colab": {
     "base_uri": "https://localhost:8080/"
    },
    "id": "pxvb2Y299hE3",
    "outputId": "59eb3185-2e37-4b9e-bc9d-ab1b8ac29b7f"
   },
   "outputs": [
    {
     "name": "stdout",
     "output_type": "stream",
     "text": [
      "10/10 [==============================] - 0s 4ms/step - loss: 0.2105 - accuracy: 0.9637\n"
     ]
    }
   ],
   "source": [
    "# Model evaluation\n",
    "val_loss, val_acc = model.evaluate(X_test, y_test, batch_size=128)"
   ]
  },
  {
   "cell_type": "code",
   "execution_count": null,
   "metadata": {
    "id": "RBkmDeUW9hE4"
   },
   "outputs": [],
   "source": [
    "# Loading the saved model\n",
    "model = tf.keras.models.load_model(model_save_path)"
   ]
  },
  {
   "cell_type": "code",
   "execution_count": null,
   "metadata": {
    "colab": {
     "base_uri": "https://localhost:8080/"
    },
    "id": "tFz9Tb0I9hE4",
    "outputId": "1c3b3528-54ae-4ee2-ab04-77429211cbef"
   },
   "outputs": [
    {
     "name": "stdout",
     "output_type": "stream",
     "text": [
      "1/1 [==============================] - 0s 109ms/step\n",
      "[9.8407114e-01 1.5317195e-02 5.1437796e-04 9.2514063e-05 4.8370759e-07\n",
      " 4.2598249e-06]\n",
      "0\n"
     ]
    }
   ],
   "source": [
    "# Inference test\n",
    "predict_result = model.predict(np.array([X_test[0]]))\n",
    "print(np.squeeze(predict_result))\n",
    "print(np.argmax(np.squeeze(predict_result)))"
   ]
  },
  {
   "cell_type": "markdown",
   "metadata": {
    "id": "S3U4yNWx9hE4"
   },
   "source": [
    "# Confusion matrix"
   ]
  },
  {
   "cell_type": "code",
   "execution_count": null,
   "metadata": {
    "colab": {
     "base_uri": "https://localhost:8080/",
     "height": 582
    },
    "id": "AP1V6SCk9hE5",
    "outputId": "08e41a80-7a4a-4619-8125-ecc371368d19"
   },
   "outputs": [
    {
     "name": "stdout",
     "output_type": "stream",
     "text": [
      "40/40 [==============================] - 0s 2ms/step\n"
     ]
    },
    {
     "data": {
      "image/png": "[encoded data removed]",
      "text/plain": [
       "<Figure size 700x600 with 2 Axes>"
      ]
     },
     "metadata": {},
     "output_type": "display_data"
    },
    {
     "name": "stdout",
     "output_type": "stream",
     "text": [
      "Classification Report\n",
      "              precision    recall  f1-score   support\n",
      "\n",
      "           0       0.98      1.00      0.99       394\n",
      "           1       0.98      0.94      0.96       387\n",
      "           2       0.93      0.98      0.95       339\n",
      "           3       1.00      1.00      1.00        85\n",
      "           4       1.00      0.89      0.94        27\n",
      "           5       1.00      0.62      0.76        34\n",
      "\n",
      "    accuracy                           0.96      1266\n",
      "   macro avg       0.98      0.90      0.93      1266\n",
      "weighted avg       0.96      0.96      0.96      1266\n",
      "\n"
     ]
    }
   ],
   "source": [
    "import pandas as pd\n",
    "import seaborn as sns\n",
    "import matplotlib.pyplot as plt\n",
    "from sklearn.metrics import confusion_matrix, classification_report\n",
    "\n",
    "def print_confusion_matrix(y_true, y_pred, report=True):\n",
    "    labels = sorted(list(set(y_true)))\n",
    "    cmx_data = confusion_matrix(y_true, y_pred, labels=labels)\n",
    "    \n",
    "    df_cmx = pd.DataFrame(cmx_data, index=labels, columns=labels)\n",
    " \n",
    "    fig, ax = plt.subplots(figsize=(7, 6))\n",
    "    sns.heatmap(df_cmx, annot=True, fmt='g' ,square=False)\n",
    "    ax.set_ylim(len(set(y_true)), 0)\n",
    "    plt.show()\n",
    "    \n",
    "    if report:\n",
    "        print('Classification Report')\n",
    "        print(classification_report(y_test, y_pred))\n",
    "\n",
    "Y_pred = model.predict(X_test)\n",
    "y_pred = np.argmax(Y_pred, axis=1)\n",
    "\n",
    "print_confusion_matrix(y_test, y_pred)"
   ]
  },
  {
   "cell_type": "markdown",
   "metadata": {
    "id": "FNP6aqzc9hE5"
   },
   "source": [
    "# Convert to model for Tensorflow-Lite"
   ]
  },
  {
   "cell_type": "code",
   "execution_count": null,
   "metadata": {
    "id": "ODjnYyld9hE6"
   },
   "outputs": [
    {
     "name": "stderr",
     "output_type": "stream",
     "text": [
      "/home/chuptani/.conda/envs/hgrm/lib/python3.10/site-packages/keras/src/engine/training.py:3103: UserWarning: You are saving your model as an HDF5 file via `model.save()`. This file format is considered legacy. We recommend using instead the native Keras format, e.g. `model.save('my_model.keras')`.\n",
      "  saving_api.save_model(\n"
     ]
    }
   ],
   "source": [
    "# Save as a model dedicated to inference\n",
    "model.save(model_save_path, include_optimizer=False)"
   ]
  },
  {
   "cell_type": "code",
   "execution_count": null,
   "metadata": {
    "colab": {
     "base_uri": "https://localhost:8080/"
    },
    "id": "zRfuK8Y59hE6",
    "outputId": "a4ca585c-b5d5-4244-8291-8674063209bb"
   },
   "outputs": [
    {
     "name": "stdout",
     "output_type": "stream",
     "text": [
      "INFO:tensorflow:Assets written to: /tmp/tmp4dsxya9i/assets\n"
     ]
    },
    {
     "name": "stderr",
     "output_type": "stream",
     "text": [
      "INFO:tensorflow:Assets written to: /tmp/tmp4dsxya9i/assets\n",
      "2024-01-29 21:43:52.795215: W tensorflow/compiler/mlir/lite/python/tf_tfl_flatbuffer_helpers.cc:378] Ignored output_format.\n",
      "2024-01-29 21:43:52.795268: W tensorflow/compiler/mlir/lite/python/tf_tfl_flatbuffer_helpers.cc:381] Ignored drop_control_dependency.\n",
      "2024-01-29 21:43:52.795554: I tensorflow/cc/saved_model/reader.cc:83] Reading SavedModel from: /tmp/tmp4dsxya9i\n",
      "2024-01-29 21:43:52.796662: I tensorflow/cc/saved_model/reader.cc:51] Reading meta graph with tags { serve }\n",
      "2024-01-29 21:43:52.796679: I tensorflow/cc/saved_model/reader.cc:146] Reading SavedModel debug info (if present) from: /tmp/tmp4dsxya9i\n",
      "2024-01-29 21:43:52.799820: I tensorflow/cc/saved_model/loader.cc:233] Restoring SavedModel bundle.\n",
      "2024-01-29 21:43:52.866327: I tensorflow/cc/saved_model/loader.cc:217] Running initialization op on SavedModel bundle at path: /tmp/tmp4dsxya9i\n",
      "2024-01-29 21:43:52.892050: I tensorflow/cc/saved_model/loader.cc:316] SavedModel load for tags { serve }; Status: success: OK. Took 96498 microseconds.\n",
      "Summary on the non-converted ops:\n",
      "---------------------------------\n",
      " * Accepted dialects: tfl, builtin, func\n",
      " * Non-Converted Ops: 6, Total Ops 13, % non-converted = 46.15 %\n",
      " * 6 ARITH ops\n",
      "\n",
      "- arith.constant:    6 occurrences  (f32: 6)\n",
      "\n",
      "\n",
      "\n",
      "  (f32: 3)\n",
      "  (f32: 1)\n"
     ]
    },
    {
     "data": {
      "text/plain": [
       "6660"
      ]
     },
     "execution_count": 41,
     "metadata": {},
     "output_type": "execute_result"
    }
   ],
   "source": [
    "# Transform model (quantization)\n",
    "\n",
    "converter = tf.lite.TFLiteConverter.from_keras_model(model)\n",
    "converter.optimizations = [tf.lite.Optimize.DEFAULT]\n",
    "tflite_quantized_model = converter.convert()\n",
    "\n",
    "open(tflite_save_path, 'wb').write(tflite_quantized_model)"
   ]
  },
  {
   "cell_type": "markdown",
   "metadata": {
    "id": "CHBPBXdx9hE6"
   },
   "source": [
    "# Inference test"
   ]
  },
  {
   "cell_type": "code",
   "execution_count": null,
   "metadata": {
    "id": "mGAzLocO9hE7"
   },
   "outputs": [],
   "source": [
    "interpreter = tf.lite.Interpreter(model_path=tflite_save_path)\n",
    "interpreter.allocate_tensors()"
   ]
  },
  {
   "cell_type": "code",
   "execution_count": null,
   "metadata": {
    "id": "oQuDK8YS9hE7"
   },
   "outputs": [],
   "source": [
    "# Get I / O tensor\n",
    "input_details = interpreter.get_input_details()\n",
    "output_details = interpreter.get_output_details()"
   ]
  },
  {
   "cell_type": "code",
   "execution_count": null,
   "metadata": {
    "id": "2_ixAf_l9hE7"
   },
   "outputs": [],
   "source": [
    "interpreter.set_tensor(input_details[0]['index'], np.array([X_test[0]]))"
   ]
  },
  {
   "cell_type": "code",
   "execution_count": null,
   "metadata": {
    "colab": {
     "base_uri": "https://localhost:8080/"
    },
    "id": "s4FoAnuc9hE7",
    "outputId": "91f18257-8d8b-4ef3-c558-e9b5f94fabbf",
    "scrolled": true
   },
   "outputs": [
    {
     "name": "stdout",
     "output_type": "stream",
     "text": [
      "CPU times: user 285 µs, sys: 21 µs, total: 306 µs\n",
      "Wall time: 249 µs\n"
     ]
    }
   ],
   "source": [
    "%%time\n",
    "# Inference implementation\n",
    "interpreter.invoke()\n",
    "tflite_results = interpreter.get_tensor(output_details[0]['index'])"
   ]
  },
  {
   "cell_type": "code",
   "execution_count": null,
   "metadata": {
    "colab": {
     "base_uri": "https://localhost:8080/"
    },
    "id": "vONjp19J9hE8",
    "outputId": "77205e24-fd00-42c4-f7b6-e06e527c2cba"
   },
   "outputs": [
    {
     "name": "stdout",
     "output_type": "stream",
     "text": [
      "[9.8407114e-01 1.5317195e-02 5.1437813e-04 9.2514245e-05 4.8370759e-07\n",
      " 4.2598244e-06]\n",
      "0\n"
     ]
    }
   ],
   "source": [
    "print(np.squeeze(tflite_results))\n",
    "print(np.argmax(np.squeeze(tflite_results)))"
   ]
  }
 ],
 "metadata": {
  "accelerator": "GPU",
  "colab": {
   "collapsed_sections": [],
   "name": "keypoint_classification_EN.ipynb",
   "provenance": [],
   "toc_visible": true
  },
  "kernelspec": {
   "display_name": "Python 3 (ipykernel)",
   "language": "python",
   "name": "python3"
  },
  "language_info": {
   "codemirror_mode": {
    "name": "ipython",
    "version": 3
   },
   "file_extension": ".py",
   "mimetype": "text/x-python",
   "name": "python",
   "nbconvert_exporter": "python",
   "pygments_lexer": "ipython3",
   "version": "3.10.0"
  }
 },
 "nbformat": 4,
 "nbformat_minor": 4
}
